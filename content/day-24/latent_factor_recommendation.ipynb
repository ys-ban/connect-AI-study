{
  "nbformat": 4,
  "nbformat_minor": 0,
  "metadata": {
    "colab": {
      "name": "latent_factor_recommendation.ipynb",
      "provenance": []
    },
    "kernelspec": {
      "name": "python3",
      "display_name": "Python 3"
    }
  },
  "cells": [
    {
      "cell_type": "code",
      "metadata": {
        "colab": {
          "base_uri": "https://localhost:8080/"
        },
        "id": "3h25ywia5OWy",
        "outputId": "5c1cde28-5011-4f0e-a3b9-7403b9625633"
      },
      "source": [
        "! pip install surprise"
      ],
      "execution_count": 3,
      "outputs": [
        {
          "output_type": "stream",
          "text": [
            "Requirement already satisfied: surprise in /usr/local/lib/python3.7/dist-packages (0.1)\n",
            "Requirement already satisfied: scikit-surprise in /usr/local/lib/python3.7/dist-packages (from surprise) (1.1.1)\n",
            "Requirement already satisfied: scipy>=1.0.0 in /usr/local/lib/python3.7/dist-packages (from scikit-surprise->surprise) (1.4.1)\n",
            "Requirement already satisfied: six>=1.10.0 in /usr/local/lib/python3.7/dist-packages (from scikit-surprise->surprise) (1.15.0)\n",
            "Requirement already satisfied: joblib>=0.11 in /usr/local/lib/python3.7/dist-packages (from scikit-surprise->surprise) (1.0.1)\n",
            "Requirement already satisfied: numpy>=1.11.2 in /usr/local/lib/python3.7/dist-packages (from scikit-surprise->surprise) (1.19.5)\n"
          ],
          "name": "stdout"
        }
      ]
    },
    {
      "cell_type": "code",
      "metadata": {
        "id": "C6PNbDVc7Db1"
      },
      "source": [
        "import numpy as np\n",
        "import pandas as pd\n",
        "from surprise import SVD\n",
        "from surprise.model_selection import train_test_split\n",
        "from surprise.model_selection import cross_validate\n",
        "from surprise import Dataset, Reader\n",
        "from surprise import accuracy\n",
        "from surprise.model_selection import GridSearchCV"
      ],
      "execution_count": 4,
      "outputs": []
    },
    {
      "cell_type": "code",
      "metadata": {
        "colab": {
          "base_uri": "https://localhost:8080/"
        },
        "id": "OhPBEJrA7ZZ5",
        "outputId": "a57bf43b-0b12-4068-96e6-48f85e937b56"
      },
      "source": [
        "from google.colab import drive\n",
        "\n",
        "drive.mount('/content/drive')"
      ],
      "execution_count": 5,
      "outputs": [
        {
          "output_type": "stream",
          "text": [
            "Mounted at /content/drive\n"
          ],
          "name": "stdout"
        }
      ]
    },
    {
      "cell_type": "code",
      "metadata": {
        "colab": {
          "base_uri": "https://localhost:8080/"
        },
        "id": "q75xM_YGZyBT",
        "outputId": "a5432671-5a36-41aa-bbcd-e06e5551907c"
      },
      "source": [
        "cd ./drive/MyDrive/Colab\\ Notebooks"
      ],
      "execution_count": 6,
      "outputs": [
        {
          "output_type": "stream",
          "text": [
            "/content/drive/MyDrive/Colab Notebooks\n"
          ],
          "name": "stdout"
        }
      ]
    },
    {
      "cell_type": "code",
      "metadata": {
        "id": "4VcCMtaFaiRo"
      },
      "source": [
        "df_ratings = pd.read_csv(\"./data/others/ratings.csv\")"
      ],
      "execution_count": 28,
      "outputs": []
    },
    {
      "cell_type": "code",
      "metadata": {
        "colab": {
          "base_uri": "https://localhost:8080/"
        },
        "id": "SMxthe2BawyI",
        "outputId": "9ff61b62-62f5-429f-c1df-9e1dfc94011d"
      },
      "source": [
        "n_users = df_ratings.userId.unique().shape[0]\n",
        "n_items = df_ratings.movieId.unique().shape[0]\n",
        "print(f\"num of users : {n_users} / num of movies : {n_items}\")"
      ],
      "execution_count": 29,
      "outputs": [
        {
          "output_type": "stream",
          "text": [
            "num of users : 610 / num of movies : 9724\n"
          ],
          "name": "stdout"
        }
      ]
    },
    {
      "cell_type": "code",
      "metadata": {
        "colab": {
          "base_uri": "https://localhost:8080/",
          "height": 204
        },
        "id": "WviUNW9FdLKi",
        "outputId": "9e760a85-45a8-415e-8bce-4298ff5c3466"
      },
      "source": [
        "df_ratings.head()"
      ],
      "execution_count": 30,
      "outputs": [
        {
          "output_type": "execute_result",
          "data": {
            "text/html": [
              "<div>\n",
              "<style scoped>\n",
              "    .dataframe tbody tr th:only-of-type {\n",
              "        vertical-align: middle;\n",
              "    }\n",
              "\n",
              "    .dataframe tbody tr th {\n",
              "        vertical-align: top;\n",
              "    }\n",
              "\n",
              "    .dataframe thead th {\n",
              "        text-align: right;\n",
              "    }\n",
              "</style>\n",
              "<table border=\"1\" class=\"dataframe\">\n",
              "  <thead>\n",
              "    <tr style=\"text-align: right;\">\n",
              "      <th></th>\n",
              "      <th>userId</th>\n",
              "      <th>movieId</th>\n",
              "      <th>rating</th>\n",
              "      <th>timestamp</th>\n",
              "    </tr>\n",
              "  </thead>\n",
              "  <tbody>\n",
              "    <tr>\n",
              "      <th>0</th>\n",
              "      <td>1</td>\n",
              "      <td>1</td>\n",
              "      <td>4.0</td>\n",
              "      <td>964982703</td>\n",
              "    </tr>\n",
              "    <tr>\n",
              "      <th>1</th>\n",
              "      <td>1</td>\n",
              "      <td>3</td>\n",
              "      <td>4.0</td>\n",
              "      <td>964981247</td>\n",
              "    </tr>\n",
              "    <tr>\n",
              "      <th>2</th>\n",
              "      <td>1</td>\n",
              "      <td>6</td>\n",
              "      <td>4.0</td>\n",
              "      <td>964982224</td>\n",
              "    </tr>\n",
              "    <tr>\n",
              "      <th>3</th>\n",
              "      <td>1</td>\n",
              "      <td>47</td>\n",
              "      <td>5.0</td>\n",
              "      <td>964983815</td>\n",
              "    </tr>\n",
              "    <tr>\n",
              "      <th>4</th>\n",
              "      <td>1</td>\n",
              "      <td>50</td>\n",
              "      <td>5.0</td>\n",
              "      <td>964982931</td>\n",
              "    </tr>\n",
              "  </tbody>\n",
              "</table>\n",
              "</div>"
            ],
            "text/plain": [
              "   userId  movieId  rating  timestamp\n",
              "0       1        1     4.0  964982703\n",
              "1       1        3     4.0  964981247\n",
              "2       1        6     4.0  964982224\n",
              "3       1       47     5.0  964983815\n",
              "4       1       50     5.0  964982931"
            ]
          },
          "metadata": {
            "tags": []
          },
          "execution_count": 30
        }
      ]
    },
    {
      "cell_type": "code",
      "metadata": {
        "id": "bfNE4z_2dO68"
      },
      "source": [
        "df_ratings = df_ratings[['userId', 'movieId', 'rating']]"
      ],
      "execution_count": 32,
      "outputs": []
    },
    {
      "cell_type": "code",
      "metadata": {
        "colab": {
          "base_uri": "https://localhost:8080/",
          "height": 204
        },
        "id": "zdQ9fbdZdqAA",
        "outputId": "2254f3b2-eb43-4bcb-93c1-faf40181c973"
      },
      "source": [
        "df_movies = pd.read_csv('./data/others/movies.csv')\n",
        "\n",
        "df_movies.head()"
      ],
      "execution_count": 31,
      "outputs": [
        {
          "output_type": "execute_result",
          "data": {
            "text/html": [
              "<div>\n",
              "<style scoped>\n",
              "    .dataframe tbody tr th:only-of-type {\n",
              "        vertical-align: middle;\n",
              "    }\n",
              "\n",
              "    .dataframe tbody tr th {\n",
              "        vertical-align: top;\n",
              "    }\n",
              "\n",
              "    .dataframe thead th {\n",
              "        text-align: right;\n",
              "    }\n",
              "</style>\n",
              "<table border=\"1\" class=\"dataframe\">\n",
              "  <thead>\n",
              "    <tr style=\"text-align: right;\">\n",
              "      <th></th>\n",
              "      <th>movieId</th>\n",
              "      <th>title</th>\n",
              "      <th>genres</th>\n",
              "    </tr>\n",
              "  </thead>\n",
              "  <tbody>\n",
              "    <tr>\n",
              "      <th>0</th>\n",
              "      <td>1</td>\n",
              "      <td>Toy Story (1995)</td>\n",
              "      <td>Adventure|Animation|Children|Comedy|Fantasy</td>\n",
              "    </tr>\n",
              "    <tr>\n",
              "      <th>1</th>\n",
              "      <td>2</td>\n",
              "      <td>Jumanji (1995)</td>\n",
              "      <td>Adventure|Children|Fantasy</td>\n",
              "    </tr>\n",
              "    <tr>\n",
              "      <th>2</th>\n",
              "      <td>3</td>\n",
              "      <td>Grumpier Old Men (1995)</td>\n",
              "      <td>Comedy|Romance</td>\n",
              "    </tr>\n",
              "    <tr>\n",
              "      <th>3</th>\n",
              "      <td>4</td>\n",
              "      <td>Waiting to Exhale (1995)</td>\n",
              "      <td>Comedy|Drama|Romance</td>\n",
              "    </tr>\n",
              "    <tr>\n",
              "      <th>4</th>\n",
              "      <td>5</td>\n",
              "      <td>Father of the Bride Part II (1995)</td>\n",
              "      <td>Comedy</td>\n",
              "    </tr>\n",
              "  </tbody>\n",
              "</table>\n",
              "</div>"
            ],
            "text/plain": [
              "   movieId  ...                                       genres\n",
              "0        1  ...  Adventure|Animation|Children|Comedy|Fantasy\n",
              "1        2  ...                   Adventure|Children|Fantasy\n",
              "2        3  ...                               Comedy|Romance\n",
              "3        4  ...                         Comedy|Drama|Romance\n",
              "4        5  ...                                       Comedy\n",
              "\n",
              "[5 rows x 3 columns]"
            ]
          },
          "metadata": {
            "tags": []
          },
          "execution_count": 31
        }
      ]
    },
    {
      "cell_type": "code",
      "metadata": {
        "colab": {
          "base_uri": "https://localhost:8080/"
        },
        "id": "TFvF06DXhDOW",
        "outputId": "d065b6dd-21be-4134-c6af-e011b956a7a9"
      },
      "source": [
        "### Add Your Own Data ### \n",
        "\n",
        "###################################### Example 1#################################################\n",
        "# User 800 is a HUGE fan of Musical Movies\n",
        "rows = []                               # row = [user_id, movie_id, rating]\n",
        "user_id = 800\n",
        "rows.append([user_id, 73, 5])        # movie    73: Miserables, Les (1995)\n",
        "rows.append([user_id, 107780, 5])     # movie  107780: Cats(1998) \n",
        "rows.append([user_id, 588, 5])     # movie  588: Aladin(1992)\n",
        "rows.append([user_id, 60397, 5])    # movie 69397: Mamma Mia!(2008)\n",
        "rows.append([user_id, 99149, 5])    # movie 99149: Miserables, Les (2012)\n",
        "rows.append([user_id, 138186, 1])    # movie 138186: Sorrow(2015)\n",
        "rows.append([user_id, 1997, 1])    # movie 1997: Scream 2 (1991)\n",
        "\n",
        "##################################################################################################\n",
        "\n",
        "###################################### Example 2#################################################\n",
        "# User 900 is a HUGE fan of Animation Movies\n",
        "rows = []                               # row = [user_id, movie_id, rating]\n",
        "user_id = 900\n",
        "rows.append([user_id, 1022, 5])        # movie    1022: Cinderella(1950)\n",
        "rows.append([user_id, 594, 5])     # movie  594: Snow White and the Seven Dwarfs(1937) \n",
        "rows.append([user_id, 106696, 5])     # movie  106696: Frozen(2013)\n",
        "rows.append([user_id, 166461, 5])    # movie 166461: Moana(2016)\n",
        "rows.append([user_id, 595, 5])    # movie 595: Beauty and the Beast (1991)\n",
        "rows.append([user_id, 138168, 1])    # movie 138168: Sorrow(2015)\n",
        "rows.append([user_id, 1997, 1])    # movie 1997: Scream 2 (1991)\n",
        "\n",
        "##################################################################################################\n",
        "\n",
        "\n",
        "########################### Add Your Own Ratings using 'movie.csv' data #########################\n",
        "# my_rows = []\n",
        "# my_id = 2021\n",
        "# rows.append([user_id, ,])       # Fill your movie id and rating     \n",
        "# rows.append([user_id, ,])       # 여러분이 평가할 영화의 id와 점수를 입력하세요.\n",
        "# rows.append([user_id, ,])\n",
        "# rows.append([user_id, ,])\n",
        "# rows.append([user_id, ,])\n",
        "\n",
        "##################################################################################################\n",
        "for row in rows:\n",
        "    df_ratings = df_ratings.append(pd.Series(row, index=df_ratings.columns), ignore_index=True)\n",
        "print(df_ratings)"
      ],
      "execution_count": 34,
      "outputs": [
        {
          "output_type": "stream",
          "text": [
            "        userId  movieId  rating\n",
            "0            1        1     4.0\n",
            "1            1        3     4.0\n",
            "2            1        6     4.0\n",
            "3            1       47     5.0\n",
            "4            1       50     5.0\n",
            "...        ...      ...     ...\n",
            "100838     900   106696     5.0\n",
            "100839     900   166461     5.0\n",
            "100840     900      595     5.0\n",
            "100841     900   138168     1.0\n",
            "100842     900     1997     1.0\n",
            "\n",
            "[100843 rows x 3 columns]\n"
          ],
          "name": "stdout"
        }
      ]
    },
    {
      "cell_type": "code",
      "metadata": {
        "id": "59r1swgrdHRS"
      },
      "source": [
        "movie_set = set()     \n",
        "ratings = np.zeros((n_users, n_items))\n",
        "for (_, movie_id, _) in df_ratings.itertuples(index=False):\n",
        "    movie_set.add(movie_id)\n",
        "\n",
        "movie_id_to_name=dict()\n",
        "movie_id_to_genre=dict()\n",
        "\n",
        "for (movie_id, movie_name, movie_genre) in df_movies.itertuples(index=False):\n",
        "    if movie_id not in movie_set:              # 어떤 영화가 rating data에 없는 경우 skip\n",
        "        continue\n",
        "    movie_id_to_name[movie_id] = movie_name \n",
        "    movie_id_to_genre[movie_id] = movie_genre"
      ],
      "execution_count": 35,
      "outputs": []
    },
    {
      "cell_type": "code",
      "metadata": {
        "id": "p_liIOfubHLI"
      },
      "source": [
        "reader = Reader(rating_scale=(0, 5))\n",
        "data = Dataset.load_from_df(df_ratings[['userId', 'movieId', 'rating']], reader=reader)\n",
        "train, test = train_test_split(data, test_size = 0.2, shuffle = True)"
      ],
      "execution_count": 36,
      "outputs": []
    },
    {
      "cell_type": "code",
      "metadata": {
        "colab": {
          "base_uri": "https://localhost:8080/"
        },
        "id": "qT-Lq0RYd4WC",
        "outputId": "120a6866-f5bd-462f-ae6d-4b221edb7c49"
      },
      "source": [
        "print(type(data))\n",
        "print(type(train))\n",
        "\n",
        "iterator = train.all_ratings()\n",
        "train_df = pd.DataFrame(columns=['userId', 'movieId', 'rating'])\n",
        "\n",
        "i=0\n",
        "for uid, iid, rating in iterator:\n",
        "  train_df.loc[i] = [train.to_raw_uid(int(uid)), train.to_raw_iid(int(iid)), rating]\n",
        "  i += 1\n",
        "\n",
        "train_data = Dataset.load_from_df(train_df, reader = reader)\n",
        "\n",
        "print(type(data))\n",
        "print(type(train))"
      ],
      "execution_count": 37,
      "outputs": [
        {
          "output_type": "stream",
          "text": [
            "<class 'surprise.dataset.DatasetAutoFolds'>\n",
            "<class 'surprise.trainset.Trainset'>\n",
            "<class 'surprise.dataset.DatasetAutoFolds'>\n",
            "<class 'surprise.trainset.Trainset'>\n"
          ],
          "name": "stdout"
        }
      ]
    },
    {
      "cell_type": "code",
      "metadata": {
        "colab": {
          "base_uri": "https://localhost:8080/",
          "height": 392
        },
        "id": "C4a_IHzobx2c",
        "outputId": "b8a8608a-8c7e-41a0-9dc1-e32ef153b222"
      },
      "source": [
        "param_grid = {'n_factors':[50, 100, 150, 200]}\n",
        "grid = GridSearchCV(SVD, param_grid, measures = ['rmse'], cv = 4)\n",
        "grid.fit(train)\n",
        "\n",
        "print(grid.best_score['rmse'])\n",
        "print(grid.best_params['rmse'])"
      ],
      "execution_count": 38,
      "outputs": [
        {
          "output_type": "error",
          "ename": "AttributeError",
          "evalue": "ignored",
          "traceback": [
            "\u001b[0;31m---------------------------------------------------------------------------\u001b[0m",
            "\u001b[0;31mAttributeError\u001b[0m                            Traceback (most recent call last)",
            "\u001b[0;32m<ipython-input-38-6b8ba5b947da>\u001b[0m in \u001b[0;36m<module>\u001b[0;34m()\u001b[0m\n\u001b[1;32m      1\u001b[0m \u001b[0mparam_grid\u001b[0m \u001b[0;34m=\u001b[0m \u001b[0;34m{\u001b[0m\u001b[0;34m'n_factors'\u001b[0m\u001b[0;34m:\u001b[0m\u001b[0;34m[\u001b[0m\u001b[0;36m50\u001b[0m\u001b[0;34m,\u001b[0m \u001b[0;36m100\u001b[0m\u001b[0;34m,\u001b[0m \u001b[0;36m150\u001b[0m\u001b[0;34m,\u001b[0m \u001b[0;36m200\u001b[0m\u001b[0;34m]\u001b[0m\u001b[0;34m}\u001b[0m\u001b[0;34m\u001b[0m\u001b[0;34m\u001b[0m\u001b[0m\n\u001b[1;32m      2\u001b[0m \u001b[0mgrid\u001b[0m \u001b[0;34m=\u001b[0m \u001b[0mGridSearchCV\u001b[0m\u001b[0;34m(\u001b[0m\u001b[0mSVD\u001b[0m\u001b[0;34m,\u001b[0m \u001b[0mparam_grid\u001b[0m\u001b[0;34m,\u001b[0m \u001b[0mmeasures\u001b[0m \u001b[0;34m=\u001b[0m \u001b[0;34m[\u001b[0m\u001b[0;34m'rmse'\u001b[0m\u001b[0;34m]\u001b[0m\u001b[0;34m,\u001b[0m \u001b[0mcv\u001b[0m \u001b[0;34m=\u001b[0m \u001b[0;36m4\u001b[0m\u001b[0;34m)\u001b[0m\u001b[0;34m\u001b[0m\u001b[0;34m\u001b[0m\u001b[0m\n\u001b[0;32m----> 3\u001b[0;31m \u001b[0mgrid\u001b[0m\u001b[0;34m.\u001b[0m\u001b[0mfit\u001b[0m\u001b[0;34m(\u001b[0m\u001b[0mtrain\u001b[0m\u001b[0;34m)\u001b[0m\u001b[0;34m\u001b[0m\u001b[0;34m\u001b[0m\u001b[0m\n\u001b[0m\u001b[1;32m      4\u001b[0m \u001b[0;34m\u001b[0m\u001b[0m\n\u001b[1;32m      5\u001b[0m \u001b[0mprint\u001b[0m\u001b[0;34m(\u001b[0m\u001b[0mgrid\u001b[0m\u001b[0;34m.\u001b[0m\u001b[0mbest_score\u001b[0m\u001b[0;34m[\u001b[0m\u001b[0;34m'rmse'\u001b[0m\u001b[0;34m]\u001b[0m\u001b[0;34m)\u001b[0m\u001b[0;34m\u001b[0m\u001b[0;34m\u001b[0m\u001b[0m\n",
            "\u001b[0;32m/usr/local/lib/python3.7/dist-packages/surprise/model_selection/search.py\u001b[0m in \u001b[0;36mfit\u001b[0;34m(self, data)\u001b[0m\n\u001b[1;32m     84\u001b[0m                                    self.return_train_measures)\n\u001b[1;32m     85\u001b[0m             for params, (trainset, testset) in product(self.param_combinations,\n\u001b[0;32m---> 86\u001b[0;31m                                                        cv.split(data))\n\u001b[0m\u001b[1;32m     87\u001b[0m         )\n\u001b[1;32m     88\u001b[0m         out = Parallel(n_jobs=self.n_jobs,\n",
            "\u001b[0;32m/usr/local/lib/python3.7/dist-packages/surprise/model_selection/split.py\u001b[0m in \u001b[0;36msplit\u001b[0;34m(self, data)\u001b[0m\n\u001b[1;32m     93\u001b[0m         \"\"\"\n\u001b[1;32m     94\u001b[0m \u001b[0;34m\u001b[0m\u001b[0m\n\u001b[0;32m---> 95\u001b[0;31m         \u001b[0;32mif\u001b[0m \u001b[0mself\u001b[0m\u001b[0;34m.\u001b[0m\u001b[0mn_splits\u001b[0m \u001b[0;34m>\u001b[0m \u001b[0mlen\u001b[0m\u001b[0;34m(\u001b[0m\u001b[0mdata\u001b[0m\u001b[0;34m.\u001b[0m\u001b[0mraw_ratings\u001b[0m\u001b[0;34m)\u001b[0m \u001b[0;32mor\u001b[0m \u001b[0mself\u001b[0m\u001b[0;34m.\u001b[0m\u001b[0mn_splits\u001b[0m \u001b[0;34m<\u001b[0m \u001b[0;36m2\u001b[0m\u001b[0;34m:\u001b[0m\u001b[0;34m\u001b[0m\u001b[0;34m\u001b[0m\u001b[0m\n\u001b[0m\u001b[1;32m     96\u001b[0m             raise ValueError('Incorrect value for n_splits={0}. '\n\u001b[1;32m     97\u001b[0m                              \u001b[0;34m'Must be >=2 and less than the number '\u001b[0m\u001b[0;34m\u001b[0m\u001b[0;34m\u001b[0m\u001b[0m\n",
            "\u001b[0;31mAttributeError\u001b[0m: 'Trainset' object has no attribute 'raw_ratings'"
          ]
        }
      ]
    },
    {
      "cell_type": "code",
      "metadata": {
        "id": "X0ZbT2rLcSpT"
      },
      "source": [
        "print(grid.best_params)\n",
        "\n",
        "algorithm = SVD(grid.best_params['rmse']['n_factors'])\n",
        "algorithm.fit(train)"
      ],
      "execution_count": null,
      "outputs": []
    },
    {
      "cell_type": "code",
      "metadata": {
        "id": "w4xiwbvNfW26"
      },
      "source": [
        "prediction = algorithm.test(test)\n",
        "\n",
        "for p in prediction[:10]:\n",
        "  print(p)"
      ],
      "execution_count": null,
      "outputs": []
    },
    {
      "cell_type": "code",
      "metadata": {
        "id": "68b_oADkfiEU"
      },
      "source": [
        "#### 특정 user, 특정 item에 대한 prediction 값 ###\n",
        "uid = 800\n",
        "iid = 8368\n",
        "prediction_user_item = algorithm.predict(uid, iid)\n",
        "print(prediction_user_item)     "
      ],
      "execution_count": null,
      "outputs": []
    },
    {
      "cell_type": "code",
      "metadata": {
        "id": "U89YWw0pfneV"
      },
      "source": [
        "##############################################################\n",
        "##### 해당 user가 아직 보지 않은 영화를 return해주는 함수#####\n",
        "##############################################################\n",
        "def get_unseen_movies(data, user_id):\n",
        "\n",
        "    watched_movies = set()\n",
        "    total_movies = set()\n",
        "    ########### Fill in Your Code #################\n",
        "    for (uid, iid, rating) in data.all_ratings():\n",
        "        \n",
        "        total_movies.add(iid)\n",
        "        if uid == user_id:\n",
        "            watched_movies.add(iid)\n",
        "    \n",
        "    unseen_movies = total_movies - watched_movies\n",
        "    ##################################################\n",
        "    return unseen_movies\n",
        "    # return total_movies"
      ],
      "execution_count": null,
      "outputs": []
    },
    {
      "cell_type": "code",
      "metadata": {
        "id": "HpzyCrjNfqdU"
      },
      "source": [
        "################################################################################\n",
        "############# 특정 user에게 top k개의 영상을 추천해주는 함수 ###################\n",
        "################################################################################\n",
        "def recommend(train, algorithm, user_id, top_k=10):\n",
        "    ################ Fill in Your Code ########################################\n",
        "    unseen_movies = get_unseen_movies(train, user_id)\n",
        "    prediction = [algorithm.predict(user_id, movie_id) for movie_id in unseen_movies]\n",
        "\n",
        "    prediction.sort(key=lambda x:x.est, reverse=True)  \n",
        "\n",
        "    ###########################################################################\n",
        "    for _, movie, _, pred, _ in prediction[:top_k]:\n",
        "        print(\"movid id: {}, movie genre: {},predicted rating: {}\".format(movie_id_to_name[movie], movie_id_to_genre[movie], pred))\n"
      ],
      "execution_count": null,
      "outputs": []
    },
    {
      "cell_type": "code",
      "metadata": {
        "id": "swF_bVFHfroY"
      },
      "source": [
        "#########################################\n",
        "####### 800번 유저의 추천 결과 ##########\n",
        "#########################################\n",
        "\n",
        "recommend(train, algorithm, user_id=800, top_k=20)\n"
      ],
      "execution_count": null,
      "outputs": []
    }
  ]
}