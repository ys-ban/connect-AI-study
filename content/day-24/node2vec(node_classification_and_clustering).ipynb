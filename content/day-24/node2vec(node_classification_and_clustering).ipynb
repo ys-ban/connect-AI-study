{
  "nbformat": 4,
  "nbformat_minor": 0,
  "metadata": {
    "colab": {
      "name": "node2vec(node_classification_and_clustering).ipynb",
      "provenance": [],
      "collapsed_sections": []
    },
    "kernelspec": {
      "name": "python3",
      "display_name": "Python 3"
    },
    "widgets": {
      "application/vnd.jupyter.widget-state+json": {
        "d32c3892cdd649a49d0c3bd5ef4d058c": {
          "model_module": "@jupyter-widgets/controls",
          "model_name": "HBoxModel",
          "state": {
            "_view_name": "HBoxView",
            "_dom_classes": [],
            "_model_name": "HBoxModel",
            "_view_module": "@jupyter-widgets/controls",
            "_model_module_version": "1.5.0",
            "_view_count": null,
            "_view_module_version": "1.5.0",
            "box_style": "",
            "layout": "IPY_MODEL_c34e6796c74141268a99f2b4fa3dabb6",
            "_model_module": "@jupyter-widgets/controls",
            "children": [
              "IPY_MODEL_f1f1037e3dda4c1185d0991281e6f21a",
              "IPY_MODEL_d925ef290e1d44708b773e5373e0f1a7"
            ]
          }
        },
        "c34e6796c74141268a99f2b4fa3dabb6": {
          "model_module": "@jupyter-widgets/base",
          "model_name": "LayoutModel",
          "state": {
            "_view_name": "LayoutView",
            "grid_template_rows": null,
            "right": null,
            "justify_content": null,
            "_view_module": "@jupyter-widgets/base",
            "overflow": null,
            "_model_module_version": "1.2.0",
            "_view_count": null,
            "flex_flow": null,
            "width": null,
            "min_width": null,
            "border": null,
            "align_items": null,
            "bottom": null,
            "_model_module": "@jupyter-widgets/base",
            "top": null,
            "grid_column": null,
            "overflow_y": null,
            "overflow_x": null,
            "grid_auto_flow": null,
            "grid_area": null,
            "grid_template_columns": null,
            "flex": null,
            "_model_name": "LayoutModel",
            "justify_items": null,
            "grid_row": null,
            "max_height": null,
            "align_content": null,
            "visibility": null,
            "align_self": null,
            "height": null,
            "min_height": null,
            "padding": null,
            "grid_auto_rows": null,
            "grid_gap": null,
            "max_width": null,
            "order": null,
            "_view_module_version": "1.2.0",
            "grid_template_areas": null,
            "object_position": null,
            "object_fit": null,
            "grid_auto_columns": null,
            "margin": null,
            "display": null,
            "left": null
          }
        },
        "f1f1037e3dda4c1185d0991281e6f21a": {
          "model_module": "@jupyter-widgets/controls",
          "model_name": "FloatProgressModel",
          "state": {
            "_view_name": "ProgressView",
            "style": "IPY_MODEL_d7441a3717ae4b4c8d2e5fddcf2599c1",
            "_dom_classes": [],
            "description": "Computing transition probabilities: 100%",
            "_model_name": "FloatProgressModel",
            "bar_style": "success",
            "max": 77,
            "_view_module": "@jupyter-widgets/controls",
            "_model_module_version": "1.5.0",
            "value": 77,
            "_view_count": null,
            "_view_module_version": "1.5.0",
            "orientation": "horizontal",
            "min": 0,
            "description_tooltip": null,
            "_model_module": "@jupyter-widgets/controls",
            "layout": "IPY_MODEL_730440376b664f6fbf0d378ab56d6475"
          }
        },
        "d925ef290e1d44708b773e5373e0f1a7": {
          "model_module": "@jupyter-widgets/controls",
          "model_name": "HTMLModel",
          "state": {
            "_view_name": "HTMLView",
            "style": "IPY_MODEL_76c45f38f3ea48be93c3eeeb4f371b60",
            "_dom_classes": [],
            "description": "",
            "_model_name": "HTMLModel",
            "placeholder": "​",
            "_view_module": "@jupyter-widgets/controls",
            "_model_module_version": "1.5.0",
            "value": " 77/77 [00:06&lt;00:00, 11.32it/s]",
            "_view_count": null,
            "_view_module_version": "1.5.0",
            "description_tooltip": null,
            "_model_module": "@jupyter-widgets/controls",
            "layout": "IPY_MODEL_c062fcb1441341deba511c89ba7ce23d"
          }
        },
        "d7441a3717ae4b4c8d2e5fddcf2599c1": {
          "model_module": "@jupyter-widgets/controls",
          "model_name": "ProgressStyleModel",
          "state": {
            "_view_name": "StyleView",
            "_model_name": "ProgressStyleModel",
            "description_width": "initial",
            "_view_module": "@jupyter-widgets/base",
            "_model_module_version": "1.5.0",
            "_view_count": null,
            "_view_module_version": "1.2.0",
            "bar_color": null,
            "_model_module": "@jupyter-widgets/controls"
          }
        },
        "730440376b664f6fbf0d378ab56d6475": {
          "model_module": "@jupyter-widgets/base",
          "model_name": "LayoutModel",
          "state": {
            "_view_name": "LayoutView",
            "grid_template_rows": null,
            "right": null,
            "justify_content": null,
            "_view_module": "@jupyter-widgets/base",
            "overflow": null,
            "_model_module_version": "1.2.0",
            "_view_count": null,
            "flex_flow": null,
            "width": null,
            "min_width": null,
            "border": null,
            "align_items": null,
            "bottom": null,
            "_model_module": "@jupyter-widgets/base",
            "top": null,
            "grid_column": null,
            "overflow_y": null,
            "overflow_x": null,
            "grid_auto_flow": null,
            "grid_area": null,
            "grid_template_columns": null,
            "flex": null,
            "_model_name": "LayoutModel",
            "justify_items": null,
            "grid_row": null,
            "max_height": null,
            "align_content": null,
            "visibility": null,
            "align_self": null,
            "height": null,
            "min_height": null,
            "padding": null,
            "grid_auto_rows": null,
            "grid_gap": null,
            "max_width": null,
            "order": null,
            "_view_module_version": "1.2.0",
            "grid_template_areas": null,
            "object_position": null,
            "object_fit": null,
            "grid_auto_columns": null,
            "margin": null,
            "display": null,
            "left": null
          }
        },
        "76c45f38f3ea48be93c3eeeb4f371b60": {
          "model_module": "@jupyter-widgets/controls",
          "model_name": "DescriptionStyleModel",
          "state": {
            "_view_name": "StyleView",
            "_model_name": "DescriptionStyleModel",
            "description_width": "",
            "_view_module": "@jupyter-widgets/base",
            "_model_module_version": "1.5.0",
            "_view_count": null,
            "_view_module_version": "1.2.0",
            "_model_module": "@jupyter-widgets/controls"
          }
        },
        "c062fcb1441341deba511c89ba7ce23d": {
          "model_module": "@jupyter-widgets/base",
          "model_name": "LayoutModel",
          "state": {
            "_view_name": "LayoutView",
            "grid_template_rows": null,
            "right": null,
            "justify_content": null,
            "_view_module": "@jupyter-widgets/base",
            "overflow": null,
            "_model_module_version": "1.2.0",
            "_view_count": null,
            "flex_flow": null,
            "width": null,
            "min_width": null,
            "border": null,
            "align_items": null,
            "bottom": null,
            "_model_module": "@jupyter-widgets/base",
            "top": null,
            "grid_column": null,
            "overflow_y": null,
            "overflow_x": null,
            "grid_auto_flow": null,
            "grid_area": null,
            "grid_template_columns": null,
            "flex": null,
            "_model_name": "LayoutModel",
            "justify_items": null,
            "grid_row": null,
            "max_height": null,
            "align_content": null,
            "visibility": null,
            "align_self": null,
            "height": null,
            "min_height": null,
            "padding": null,
            "grid_auto_rows": null,
            "grid_gap": null,
            "max_width": null,
            "order": null,
            "_view_module_version": "1.2.0",
            "grid_template_areas": null,
            "object_position": null,
            "object_fit": null,
            "grid_auto_columns": null,
            "margin": null,
            "display": null,
            "left": null
          }
        },
        "73795bc5092e4c8284ca8819ce3a89a6": {
          "model_module": "@jupyter-widgets/controls",
          "model_name": "HBoxModel",
          "state": {
            "_view_name": "HBoxView",
            "_dom_classes": [],
            "_model_name": "HBoxModel",
            "_view_module": "@jupyter-widgets/controls",
            "_model_module_version": "1.5.0",
            "_view_count": null,
            "_view_module_version": "1.5.0",
            "box_style": "",
            "layout": "IPY_MODEL_4900d7cbd4ac4a4380b1671e03cfb6d8",
            "_model_module": "@jupyter-widgets/controls",
            "children": [
              "IPY_MODEL_fce9b196657c4c43bf978383cf95fbcf",
              "IPY_MODEL_ab50b2fd3de045818696cc58c1da90df"
            ]
          }
        },
        "4900d7cbd4ac4a4380b1671e03cfb6d8": {
          "model_module": "@jupyter-widgets/base",
          "model_name": "LayoutModel",
          "state": {
            "_view_name": "LayoutView",
            "grid_template_rows": null,
            "right": null,
            "justify_content": null,
            "_view_module": "@jupyter-widgets/base",
            "overflow": null,
            "_model_module_version": "1.2.0",
            "_view_count": null,
            "flex_flow": null,
            "width": null,
            "min_width": null,
            "border": null,
            "align_items": null,
            "bottom": null,
            "_model_module": "@jupyter-widgets/base",
            "top": null,
            "grid_column": null,
            "overflow_y": null,
            "overflow_x": null,
            "grid_auto_flow": null,
            "grid_area": null,
            "grid_template_columns": null,
            "flex": null,
            "_model_name": "LayoutModel",
            "justify_items": null,
            "grid_row": null,
            "max_height": null,
            "align_content": null,
            "visibility": null,
            "align_self": null,
            "height": null,
            "min_height": null,
            "padding": null,
            "grid_auto_rows": null,
            "grid_gap": null,
            "max_width": null,
            "order": null,
            "_view_module_version": "1.2.0",
            "grid_template_areas": null,
            "object_position": null,
            "object_fit": null,
            "grid_auto_columns": null,
            "margin": null,
            "display": null,
            "left": null
          }
        },
        "fce9b196657c4c43bf978383cf95fbcf": {
          "model_module": "@jupyter-widgets/controls",
          "model_name": "FloatProgressModel",
          "state": {
            "_view_name": "ProgressView",
            "style": "IPY_MODEL_74f7dd6741344944b13ae5220e37f82c",
            "_dom_classes": [],
            "description": "Computing transition probabilities: 100%",
            "_model_name": "FloatProgressModel",
            "bar_style": "success",
            "max": 2708,
            "_view_module": "@jupyter-widgets/controls",
            "_model_module_version": "1.5.0",
            "value": 2708,
            "_view_count": null,
            "_view_module_version": "1.5.0",
            "orientation": "horizontal",
            "min": 0,
            "description_tooltip": null,
            "_model_module": "@jupyter-widgets/controls",
            "layout": "IPY_MODEL_0d8db0b9e5404330886982067009e064"
          }
        },
        "ab50b2fd3de045818696cc58c1da90df": {
          "model_module": "@jupyter-widgets/controls",
          "model_name": "HTMLModel",
          "state": {
            "_view_name": "HTMLView",
            "style": "IPY_MODEL_af1ba28cdd83464cba07715009babb4d",
            "_dom_classes": [],
            "description": "",
            "_model_name": "HTMLModel",
            "placeholder": "​",
            "_view_module": "@jupyter-widgets/controls",
            "_model_module_version": "1.5.0",
            "value": " 2708/2708 [02:59&lt;00:00, 15.11it/s]",
            "_view_count": null,
            "_view_module_version": "1.5.0",
            "description_tooltip": null,
            "_model_module": "@jupyter-widgets/controls",
            "layout": "IPY_MODEL_7a084a99a62f4187a7a92346ef1db496"
          }
        },
        "74f7dd6741344944b13ae5220e37f82c": {
          "model_module": "@jupyter-widgets/controls",
          "model_name": "ProgressStyleModel",
          "state": {
            "_view_name": "StyleView",
            "_model_name": "ProgressStyleModel",
            "description_width": "initial",
            "_view_module": "@jupyter-widgets/base",
            "_model_module_version": "1.5.0",
            "_view_count": null,
            "_view_module_version": "1.2.0",
            "bar_color": null,
            "_model_module": "@jupyter-widgets/controls"
          }
        },
        "0d8db0b9e5404330886982067009e064": {
          "model_module": "@jupyter-widgets/base",
          "model_name": "LayoutModel",
          "state": {
            "_view_name": "LayoutView",
            "grid_template_rows": null,
            "right": null,
            "justify_content": null,
            "_view_module": "@jupyter-widgets/base",
            "overflow": null,
            "_model_module_version": "1.2.0",
            "_view_count": null,
            "flex_flow": null,
            "width": null,
            "min_width": null,
            "border": null,
            "align_items": null,
            "bottom": null,
            "_model_module": "@jupyter-widgets/base",
            "top": null,
            "grid_column": null,
            "overflow_y": null,
            "overflow_x": null,
            "grid_auto_flow": null,
            "grid_area": null,
            "grid_template_columns": null,
            "flex": null,
            "_model_name": "LayoutModel",
            "justify_items": null,
            "grid_row": null,
            "max_height": null,
            "align_content": null,
            "visibility": null,
            "align_self": null,
            "height": null,
            "min_height": null,
            "padding": null,
            "grid_auto_rows": null,
            "grid_gap": null,
            "max_width": null,
            "order": null,
            "_view_module_version": "1.2.0",
            "grid_template_areas": null,
            "object_position": null,
            "object_fit": null,
            "grid_auto_columns": null,
            "margin": null,
            "display": null,
            "left": null
          }
        },
        "af1ba28cdd83464cba07715009babb4d": {
          "model_module": "@jupyter-widgets/controls",
          "model_name": "DescriptionStyleModel",
          "state": {
            "_view_name": "StyleView",
            "_model_name": "DescriptionStyleModel",
            "description_width": "",
            "_view_module": "@jupyter-widgets/base",
            "_model_module_version": "1.5.0",
            "_view_count": null,
            "_view_module_version": "1.2.0",
            "_model_module": "@jupyter-widgets/controls"
          }
        },
        "7a084a99a62f4187a7a92346ef1db496": {
          "model_module": "@jupyter-widgets/base",
          "model_name": "LayoutModel",
          "state": {
            "_view_name": "LayoutView",
            "grid_template_rows": null,
            "right": null,
            "justify_content": null,
            "_view_module": "@jupyter-widgets/base",
            "overflow": null,
            "_model_module_version": "1.2.0",
            "_view_count": null,
            "flex_flow": null,
            "width": null,
            "min_width": null,
            "border": null,
            "align_items": null,
            "bottom": null,
            "_model_module": "@jupyter-widgets/base",
            "top": null,
            "grid_column": null,
            "overflow_y": null,
            "overflow_x": null,
            "grid_auto_flow": null,
            "grid_area": null,
            "grid_template_columns": null,
            "flex": null,
            "_model_name": "LayoutModel",
            "justify_items": null,
            "grid_row": null,
            "max_height": null,
            "align_content": null,
            "visibility": null,
            "align_self": null,
            "height": null,
            "min_height": null,
            "padding": null,
            "grid_auto_rows": null,
            "grid_gap": null,
            "max_width": null,
            "order": null,
            "_view_module_version": "1.2.0",
            "grid_template_areas": null,
            "object_position": null,
            "object_fit": null,
            "grid_auto_columns": null,
            "margin": null,
            "display": null,
            "left": null
          }
        }
      }
    }
  },
  "cells": [
    {
      "cell_type": "markdown",
      "metadata": {
        "id": "wESmbnHY0g_V"
      },
      "source": [
        "# Clustering"
      ]
    },
    {
      "cell_type": "code",
      "metadata": {
        "colab": {
          "base_uri": "https://localhost:8080/"
        },
        "id": "oH1splcYvMFR",
        "outputId": "34e9f723-c032-4980-a75c-69edac553e7f"
      },
      "source": [
        "!pip install networkx\n",
        "!pip install node2vec"
      ],
      "execution_count": null,
      "outputs": [
        {
          "output_type": "stream",
          "text": [
            "Requirement already satisfied: networkx in /usr/local/lib/python3.7/dist-packages (2.5)\n",
            "Requirement already satisfied: decorator>=4.3.0 in /usr/local/lib/python3.7/dist-packages (from networkx) (4.4.2)\n",
            "Collecting node2vec\n",
            "  Downloading https://files.pythonhosted.org/packages/47/60/af8b5f2ca767e4ee56366886cba1430aab0b1a1c0b188df244098e33ea19/node2vec-0.4.1.tar.gz\n",
            "Requirement already satisfied: networkx in /usr/local/lib/python3.7/dist-packages (from node2vec) (2.5)\n",
            "Requirement already satisfied: gensim in /usr/local/lib/python3.7/dist-packages (from node2vec) (3.6.0)\n",
            "Requirement already satisfied: numpy in /usr/local/lib/python3.7/dist-packages (from node2vec) (1.19.5)\n",
            "Requirement already satisfied: tqdm in /usr/local/lib/python3.7/dist-packages (from node2vec) (4.41.1)\n",
            "Requirement already satisfied: joblib>=0.13.2 in /usr/local/lib/python3.7/dist-packages (from node2vec) (1.0.1)\n",
            "Requirement already satisfied: decorator>=4.3.0 in /usr/local/lib/python3.7/dist-packages (from networkx->node2vec) (4.4.2)\n",
            "Requirement already satisfied: six>=1.5.0 in /usr/local/lib/python3.7/dist-packages (from gensim->node2vec) (1.15.0)\n",
            "Requirement already satisfied: scipy>=0.18.1 in /usr/local/lib/python3.7/dist-packages (from gensim->node2vec) (1.4.1)\n",
            "Requirement already satisfied: smart-open>=1.2.1 in /usr/local/lib/python3.7/dist-packages (from gensim->node2vec) (4.2.0)\n",
            "Building wheels for collected packages: node2vec\n",
            "  Building wheel for node2vec (setup.py) ... \u001b[?25l\u001b[?25hdone\n",
            "  Created wheel for node2vec: filename=node2vec-0.4.1-cp37-none-any.whl size=5734 sha256=b2230cad057e053fd68a6e3939ace6b9701571616ff3f21d2d9fdc3deb24aba1\n",
            "  Stored in directory: /root/.cache/pip/wheels/b3/59/ea/22e964f74bb864c5423cf82027a4d69dd65bac0bbf95fd46f5\n",
            "Successfully built node2vec\n",
            "Installing collected packages: node2vec\n",
            "Successfully installed node2vec-0.4.1\n"
          ],
          "name": "stdout"
        }
      ]
    },
    {
      "cell_type": "code",
      "metadata": {
        "id": "svPV5ZFBu2Gn"
      },
      "source": [
        "import networkx as nx\n",
        "from node2vec import Node2Vec\n",
        "from matplotlib import pyplot as plt"
      ],
      "execution_count": null,
      "outputs": []
    },
    {
      "cell_type": "code",
      "metadata": {
        "colab": {
          "base_uri": "https://localhost:8080/"
        },
        "id": "NESdXA6VvHCH",
        "outputId": "1600c9bd-c628-44d3-8aad-da744e7e4be4"
      },
      "source": [
        "import os, sys\n",
        "from google.colab import drive\n",
        "\n",
        "drive.mount(\"/content/drive\")"
      ],
      "execution_count": null,
      "outputs": [
        {
          "output_type": "stream",
          "text": [
            "Mounted at /content/drive\n"
          ],
          "name": "stdout"
        }
      ]
    },
    {
      "cell_type": "code",
      "metadata": {
        "colab": {
          "base_uri": "https://localhost:8080/",
          "height": 69
        },
        "id": "08rs47ayveST",
        "outputId": "996df8b4-9fbd-4522-9fec-ddaf3cd2fb32"
      },
      "source": [
        "###################### Dataset Description ##########################\n",
        "'''\n",
        "    [Reference]\n",
        "        title={The Network Data Repository with Interactive Graph Analytics and Visualization},\n",
        "        author={Ryan A. Rossi and Nesreen K. Ahmed},\n",
        "        booktitle={AAAI},\n",
        "        url={http://networkrepository.com},\n",
        "        year={2015}\n",
        "\n",
        "'''\n",
        "###### lesmis.mtx : <node 1> <node 2> <weight> ######################\n",
        "###### weight : 레미제라블에 동시에 등장한 등장인물의 횟수 ##########\n",
        "#####################################################################"
      ],
      "execution_count": null,
      "outputs": [
        {
          "output_type": "execute_result",
          "data": {
            "application/vnd.google.colaboratory.intrinsic+json": {
              "type": "string"
            },
            "text/plain": [
              "'\\n    [Reference]\\n        title={The Network Data Repository with Interactive Graph Analytics and Visualization},\\n        author={Ryan A. Rossi and Nesreen K. Ahmed},\\n        booktitle={AAAI},\\n        url={http://networkrepository.com},\\n        year={2015}\\n\\n'"
            ]
          },
          "metadata": {
            "tags": []
          },
          "execution_count": 5
        }
      ]
    },
    {
      "cell_type": "code",
      "metadata": {
        "colab": {
          "base_uri": "https://localhost:8080/"
        },
        "id": "yX6K9gbDvlVt",
        "outputId": "ae2a53ef-2b02-44be-aa59-fb6f57b0fe0f"
      },
      "source": [
        "ls"
      ],
      "execution_count": null,
      "outputs": [
        {
          "output_type": "stream",
          "text": [
            "\u001b[0m\u001b[01;34mdrive\u001b[0m/  \u001b[01;34msample_data\u001b[0m/\n"
          ],
          "name": "stdout"
        }
      ]
    },
    {
      "cell_type": "code",
      "metadata": {
        "colab": {
          "base_uri": "https://localhost:8080/"
        },
        "id": "7FMDOfWRvpEn",
        "outputId": "495e1614-b75e-417b-f93c-35393a00acf5"
      },
      "source": [
        "cd ./drive/MyDrive/Colab\\ Notebooks"
      ],
      "execution_count": null,
      "outputs": [
        {
          "output_type": "stream",
          "text": [
            "/content/drive/MyDrive/Colab Notebooks\n"
          ],
          "name": "stdout"
        }
      ]
    },
    {
      "cell_type": "code",
      "metadata": {
        "id": "MxstB3UdvsIb"
      },
      "source": [
        "weighted_edgelist = []\n",
        "with open(\"./data/lab/lab7/lesmis.mtx\", 'r') as f:\n",
        "  for line in f:\n",
        "    line = line.strip().split()\n",
        "    if line[0].isdigit() == False:\n",
        "      continue\n",
        "    weighted_edgelist.append((str(int(line[0])-1), str(int(line[1])-1), float(line[2])))\n",
        "\n",
        "G =nx.Graph()\n",
        "G.add_weighted_edges_from(weighted_edgelist)"
      ],
      "execution_count": null,
      "outputs": []
    },
    {
      "cell_type": "code",
      "metadata": {
        "colab": {
          "base_uri": "https://localhost:8080/",
          "height": 66,
          "referenced_widgets": [
            "d32c3892cdd649a49d0c3bd5ef4d058c",
            "c34e6796c74141268a99f2b4fa3dabb6",
            "f1f1037e3dda4c1185d0991281e6f21a",
            "d925ef290e1d44708b773e5373e0f1a7",
            "d7441a3717ae4b4c8d2e5fddcf2599c1",
            "730440376b664f6fbf0d378ab56d6475",
            "76c45f38f3ea48be93c3eeeb4f371b60",
            "c062fcb1441341deba511c89ba7ce23d"
          ]
        },
        "id": "MiFp7dq1whmy",
        "outputId": "565f28f2-54fa-4c70-8ba6-82d994f17f0c"
      },
      "source": [
        "node2vec = Node2Vec(G, dimensions = 16, walk_length = 4, num_walks = 200, workers = 4)\n",
        "model = node2vec.fit(window = 2)"
      ],
      "execution_count": null,
      "outputs": [
        {
          "output_type": "display_data",
          "data": {
            "application/vnd.jupyter.widget-view+json": {
              "model_id": "d32c3892cdd649a49d0c3bd5ef4d058c",
              "version_minor": 0,
              "version_major": 2
            },
            "text/plain": [
              "HBox(children=(FloatProgress(value=0.0, description='Computing transition probabilities', max=77.0, style=Prog…"
            ]
          },
          "metadata": {
            "tags": []
          }
        },
        {
          "output_type": "stream",
          "text": [
            "\n"
          ],
          "name": "stdout"
        }
      ]
    },
    {
      "cell_type": "code",
      "metadata": {
        "id": "nkedbUmWwwIT"
      },
      "source": [
        "from sklearn.cluster import KMeans\n",
        "import numpy as np"
      ],
      "execution_count": null,
      "outputs": []
    },
    {
      "cell_type": "code",
      "metadata": {
        "id": "JtnA0-iZyT-D",
        "colab": {
          "base_uri": "https://localhost:8080/",
          "height": 232
        },
        "outputId": "82906085-9930-4be8-c8b8-7a91f5260651"
      },
      "source": [
        "vectors_array = np.zeros((len(G.nodes), 16))\n",
        "for node in G.nodes:\n",
        "  vectors_array[int(node)] = model.wv[node]\n",
        "\n",
        "kmeans = KMeans(n_clusters=5, random_state=0).fit(vectors_array)\n",
        "# cluster is not a community"
      ],
      "execution_count": 38,
      "outputs": [
        {
          "output_type": "error",
          "ename": "ValueError",
          "evalue": "ignored",
          "traceback": [
            "\u001b[0;31m---------------------------------------------------------------------------\u001b[0m",
            "\u001b[0;31mValueError\u001b[0m                                Traceback (most recent call last)",
            "\u001b[0;32m<ipython-input-38-a0a3710da692>\u001b[0m in \u001b[0;36m<module>\u001b[0;34m()\u001b[0m\n\u001b[1;32m      1\u001b[0m \u001b[0mvectors_array\u001b[0m \u001b[0;34m=\u001b[0m \u001b[0mnp\u001b[0m\u001b[0;34m.\u001b[0m\u001b[0mzeros\u001b[0m\u001b[0;34m(\u001b[0m\u001b[0;34m(\u001b[0m\u001b[0mlen\u001b[0m\u001b[0;34m(\u001b[0m\u001b[0mG\u001b[0m\u001b[0;34m.\u001b[0m\u001b[0mnodes\u001b[0m\u001b[0;34m)\u001b[0m\u001b[0;34m,\u001b[0m \u001b[0;36m16\u001b[0m\u001b[0;34m)\u001b[0m\u001b[0;34m)\u001b[0m\u001b[0;34m\u001b[0m\u001b[0;34m\u001b[0m\u001b[0m\n\u001b[1;32m      2\u001b[0m \u001b[0;32mfor\u001b[0m \u001b[0mnode\u001b[0m \u001b[0;32min\u001b[0m \u001b[0mG\u001b[0m\u001b[0;34m.\u001b[0m\u001b[0mnodes\u001b[0m\u001b[0;34m:\u001b[0m\u001b[0;34m\u001b[0m\u001b[0;34m\u001b[0m\u001b[0m\n\u001b[0;32m----> 3\u001b[0;31m   \u001b[0mvectors_array\u001b[0m\u001b[0;34m[\u001b[0m\u001b[0mint\u001b[0m\u001b[0;34m(\u001b[0m\u001b[0mnode\u001b[0m\u001b[0;34m)\u001b[0m\u001b[0;34m]\u001b[0m \u001b[0;34m=\u001b[0m \u001b[0mmodel\u001b[0m\u001b[0;34m.\u001b[0m\u001b[0mwv\u001b[0m\u001b[0;34m[\u001b[0m\u001b[0mnode\u001b[0m\u001b[0;34m]\u001b[0m\u001b[0;34m\u001b[0m\u001b[0;34m\u001b[0m\u001b[0m\n\u001b[0m\u001b[1;32m      4\u001b[0m \u001b[0;34m\u001b[0m\u001b[0m\n\u001b[1;32m      5\u001b[0m \u001b[0mkmeans\u001b[0m \u001b[0;34m=\u001b[0m \u001b[0mKMeans\u001b[0m\u001b[0;34m(\u001b[0m\u001b[0mn_clusters\u001b[0m\u001b[0;34m=\u001b[0m\u001b[0;36m5\u001b[0m\u001b[0;34m,\u001b[0m \u001b[0mrandom_state\u001b[0m\u001b[0;34m=\u001b[0m\u001b[0;36m0\u001b[0m\u001b[0;34m)\u001b[0m\u001b[0;34m.\u001b[0m\u001b[0mfit\u001b[0m\u001b[0;34m(\u001b[0m\u001b[0mvectors_array\u001b[0m\u001b[0;34m)\u001b[0m\u001b[0;34m\u001b[0m\u001b[0;34m\u001b[0m\u001b[0m\n",
            "\u001b[0;31mValueError\u001b[0m: could not broadcast input array from shape (32) into shape (16)"
          ]
        }
      ]
    },
    {
      "cell_type": "code",
      "metadata": {
        "colab": {
          "base_uri": "https://localhost:8080/",
          "height": 248
        },
        "id": "V5VnrAVIytFx",
        "outputId": "298e7ade-dbf2-40a7-ebdd-592bee5ca626"
      },
      "source": [
        "pos = nx.spring_layout(G)\n",
        "node_color = []\n",
        "node_degree = []\n",
        "for node in G.nodes:\n",
        "  node_degree.append(G.degree[node]*10)\n",
        "  i = int(node)\n",
        "  if kmeans.labels_[i] == 0:\n",
        "    node_color.append('red')\n",
        "  elif kmeans.labels_[i] == 1:\n",
        "    node_color.append('yellow')\n",
        "  elif kmeans.labels_[i] == 2:\n",
        "    node_color.append('blue')\n",
        "  elif kmeans.labels_[i] == 3:\n",
        "    node_color.append('green')\n",
        "  else :\n",
        "    node_color.append('orange')\n",
        "nx.draw_networkx_nodes(G, pos, node_color=node_color, node_size=node_degree)\n",
        "nx.draw_networkx_edges(G, pos)\n",
        "plt.show()"
      ],
      "execution_count": null,
      "outputs": [
        {
          "output_type": "display_data",
          "data": {
            "image/png": "[encoded data removed]",
            "text/plain": [
              "<Figure size 432x288 with 1 Axes>"
            ]
          },
          "metadata": {
            "tags": []
          }
        }
      ]
    },
    {
      "cell_type": "markdown",
      "metadata": {
        "id": "8F0BxmdIzwyU"
      },
      "source": [
        "# Node Classification"
      ]
    },
    {
      "cell_type": "code",
      "metadata": {
        "id": "Z__bb4Wh0pDw"
      },
      "source": [
        "from sklearn.model_selection import train_test_split\n",
        "from sklearn.neural_network import MLPClassifier\n",
        "from sklearn.metrics import accuracy_score"
      ],
      "execution_count": null,
      "outputs": []
    },
    {
      "cell_type": "code",
      "metadata": {
        "id": "NXQyqKQp02cB"
      },
      "source": [
        "node_class = dict()\n",
        "edgelist = list()\n",
        "class_num = 1\n",
        "class_name_to_num = dict()\n",
        "with open('./data/lab/lab7/cora.content', 'r') as f, open(\"./data/lab/lab7/cora.cites\") as f2:\n",
        "  for line in f:\n",
        "    line = line.strip().split()\n",
        "    class_name = line[-1]\n",
        "    if class_name not in class_name_to_num.keys(): \n",
        "      class_name_to_num[class_name] = class_num\n",
        "      class_num += 1\n",
        "    node_class[line[0]] = class_name_to_num[class_name]\n",
        "  for line in f2:\n",
        "    line = line.strip().split()\n",
        "    edgelist.append((line[1], line[0]))"
      ],
      "execution_count": 39,
      "outputs": []
    },
    {
      "cell_type": "code",
      "metadata": {
        "id": "gDKce7062VGC"
      },
      "source": [
        "G = nx.DiGraph()\n",
        "G.add_edges_from(edgelist)"
      ],
      "execution_count": 40,
      "outputs": []
    },
    {
      "cell_type": "code",
      "metadata": {
        "colab": {
          "base_uri": "https://localhost:8080/"
        },
        "id": "NdivD7Kq6S7E",
        "outputId": "c27fe3de-f8fc-427e-e354-b88624d12da9"
      },
      "source": [
        "G.nodes"
      ],
      "execution_count": null,
      "outputs": [
        {
          "output_type": "execute_result",
          "data": {
            "text/plain": [
              "NodeView(('1033', '35', '103482', '103515', '1050679', '1103960', '1103985', '1109199', '1112911', '1113438', '1113831', '1114331', '1117476', '1119505', '1119708', '1120431', '1123756', '1125386', '1127430', '1127913', '1128204', '1128227', '1128314', '1128453', '1128945', '1128959', '1128985', '1129018', '1129027', '1129573', '1129683', '1129778', '1130847', '1130856', '1131116', '1131360', '1131557', '1131752', '1133196', '1133338', '1136814', '1137466', '1152421', '1152508', '1153065', '1153280', '1153577', '1153853', '1153943', '1154176', '1154459', '116552', '12576', '128540', '132806', '135130', '141342', '141347', '148170', '15670', '1688', '175291', '178727', '18582', '190697', '190706', '1956', '197054', '198443', '198653', '206371', '210871', '229635', '231249', '248425', '249421', '254923', '259701', '259702', '263279', '263498', '265203', '273152', '27510', '28290', '286500', '287787', '28851', '289779', '289780', '289781', '307015', '335733', '33904', '33907', '35061', '38205', '387795', '415693', '41714', '427606', '44368', '45599', '46079', '46431', '486840', '48766', '503883', '503893', '513189', '54129', '54131', '56119', '561238', '568857', '573964', '573978', '574009', '574264', '574462', '575077', '575292', '575331', '576725', '576795', '577227', '578780', '579008', '592973', '593091', '593105', '593240', '593260', '593813', '594047', '594543', '594649', '594900', '608326', '634902', '634904', '634938', '634975', '640617', '646809', '646837', '647408', '647447', '66556', '66563', '66805', '69284', '69296', '694759', '735303', '78511', '787016', '801170', '81722', '82098', '84021', '85352', '86359', '8865', '887', '97645', '98698', '1109017', '40', '1114442', '1103315', '114', '1105394', '1106112', '1106172', '1106406', '1107455', '1111052', '1114125', '1117942', '1118245', '1118332', '1120170', '1126029', '124064', '128', '130', '136665', '191404', '193742', '23258', '28227', '28287', '28350', '28387', '28471', '28485', '341188', '38480', '39403', '434', '55968', '58540', '6155', '6170', '6196', '6220', '64484', '7432', '755217', '8213', '91975', '976334', '1109581', '117', '149669', '17476', '189708', '206259', '28202', '28278', '32872', '33013', '6214', '75674', '20526', '13960', '345340', '1118092', '288', '36167', '1135125', '424', '218666', '47684', '267003', '58454', '463', '1102364', '504', '1112650', '506', '89416', '1106546', '10796', '1105033', '1111304', '1113614', '114308', '134128', '161221', '170798', '19045', '20972', '28456', '299195', '299197', '334153', '35490', '595056', '6151', '6213', '6215', '64519', '87363', '1103979', '906', '1105344', '1114352', '1136397', '1140040', '34355', '910', '1104379', '1105530', '1108834', '1110520', '1114118', '1116569', '1118848', '1120858', '1122460', '1126044', '1129111', '1135137', '1152194', '12439', '12946', '131042', '13136', '160705', '227286', '242637', '31043', '340075', '340078', '35905', '42847', '436796', '48550', '5462', '576257', '58552', '5869', '636511', '67292', '675649', '684372', '94953', '1107010', '936', '1111899', '129558', '207395', '3084', '3828', '38845', '20180', '940', '28265', '941', '1152896', '943', '91852', '1034', '1026', '1102550', '1105231', '1129798', '1153945', '1107062', '1035', '1110515', '1154525', '1213', '409725', '8766', '102938', '1237', '1102400', '143676', '1246', '1104007', '42207', '57764', '6125', '1102625', '1272', '1108167', '1120962', '112378', '1123867', '1128256', '1129208', '1135358', '157805', '18615', '192734', '20593', '27230', '284414', '30895', '30901', '444240', '520471', '52835', '552469', '560936', '591016', '636098', '65653', '6917', '6923', '85452', '85688', '93923', '97892', '1031453', '1365', '1102407', '1105062', '1106287', '1108050', '1110494', '1110998', '1113995', '1114153', '1114388', '1114605', '1116347', '1116594', '1117653', '1119140', '1120211', '1120866', '1128839', '1129443', '1130600', '1131647', '1131745', '1131748', '1132922', '1132968', '1135368', '1136422', '1136442', '1152143', '1152821', '1154169', '120084', '139865', '157401', '171225', '184918', '188318', '188471', '22835', '23448', '23502', '23507', '237521', '26850', '330148', '340299', '39904', '49482', '562123', '628500', '648232', '649731', '69392', '7276', '7297', '77758', '782486', '83826', '85299', '853150', '90888', '93555', '948299', '948846', '949318', '949511', '950052', '950305', '1102567', '1481', '1106052', '1108267', '1111614', '1113934', '1114864', '1117184', '1119295', '1120563', '1153891', '200480', '399173', '4878', '521207', '521269', '1134022', '152483', '1694', '39474', '647413', '1115291', '1717', '1116336', '1135108', '50381', '733167', '35797', '1786', '1114502', '1817', '1108389', '1919', '129042', '1949', '3101', '3095', '1951', '1107215', '1952', '1153166', '1953', '1153724', '1153728', '110163', '1955', '1110390', '101143', '1118302', '1153101', '1153150', '263486', '83449', '1959', '3097', '310530', '38839', '73327', '82664', '1102442', '1997', '1108551', '1109439', '1109542', '129897', '154982', '3233', '49811', '7032', '1999', '1123068', '1131471', '39126', '6771', '10186', '2354', '1107140', '1113852', '1130539', '154134', '40151', '74749', '1000012', '2440', '1061127', '1106388', '1107095', '1110426', '1114512', '1117786', '1120650', '1127619', '1153254', '136766', '136768', '151430', '212777', '23546', '49843', '49844', '49847', '582343', '591017', '63931', '72908', '102406', '2653', '107177', '1104055', '1116268', '1116842', '1118764', '1119751', '1152075', '167656', '197783', '28641', '321861', '350362', '4660', '59045', '65650', '1104851', '2654', '1106630', '1107861', '1110438', '1121867', '1123926', '211906', '27250', '463825', '52784', '1115375', '2658', '1130676', '1130808', '1131607', '1132948', '1135899', '1140230', '230884', '236759', '282700', '395540', '578347', '696342', '696345', '696346', '751408', '99023', '1119671', '2663', '1105574', '2665', '1113035', '1122704', '1132486', '205192', '237489', '43639', '578306', '578309', '578337', '582139', '630817', '631052', '763009', '1108169', '2695', '1120197', '2698', '342802', '2696', '1114192', '1118083', '1123239', '1133004', '256106', '469504', '5348', '99025', '1120777', '2702', '12330', '395553', '72056', '1107171', '255233', '33303', '15889', '3085', '221302', '30973', '395725', '5062', '110162', '218682', '1106236', '129045', '110164', '70441', '103529', '3112', '1152564', '470511', '77826', '77829', '1110000', '3187', '129896', '280876', '5086', '105865', '3191', '1106789', '1127530', '1131267', '137873', '162664', '308920', '310742', '3192', '423463', '561364', '642827', '3217', '167670', '238099', '86840', '1106492', '3218', '1119987', '1120169', '1152290', '1153264', '187354', '277263', '35070', '417017', '6639', '66782', '6767', '6941', '1115677', '3220', '1125992', '1128430', '1130634', '1131728', '1132706', '120039', '145215', '346243', '36620', '39124', '40922', '429805', '654177', '69397', '8832', '1103737', '3222', '1114222', '1131137', '1132157', '964248', '3223', '100197', '3229', '1105718', '1106568', '1108209', '1109392', '1112767', '1125082', '1125895', '1126037', '1128868', '1130915', '1130927', '1130931', '1132418', '1140289', '1152277', '1152673', '1154251', '118559', '133550', '16461', '189577', '25181', '25184', '27174', '27631', '31769', '33412', '35343', '35863', '35922', '390922', '396412', '444191', '447250', '52515', '62347', '641976', '654326', '7022', '72101', '82087', '919885', '92065', '96335', '104840', '3231', '1102761', '1106330', '1106370', '1107067', '1113926', '1115471', '1128536', '1153169', '180399', '20850', '259126', '3237', '328370', '49660', '6334', '63477', '63486', '66594', '68463', '8699', '8821', '3232', '20942', '521251', '1125467', '192850', '272720', '509379', '976284', '3235', '3236', '601561', '1110531', '3240', '39130', '1103610', '3243', '1110947', '1113739', '307336', '31932', '368431', '854434', '5075', '3932', '1105428', '4274', '1114664', '1119078', '105899', '4329', '1110768', '28254', '395547', '46468', '510718', '1103676', '4330', '1104449', '11093', '1112929', '1132459', '1132461', '1136393', '1152917', '118436', '119956', '120013', '151708', '168410', '32688', '37884', '390889', '428610', '684986', '69418', '753265', '949217', '1104300', '4335', '1121254', '1136310', '1140547', '116790', '239800', '32698', '62274', '62417', '755082', '95718', '1102548', '4553', '4584', '1120020', '1130567', '13885', '13917', '293285', '6184', '6210', '628815', '164', '4637', '1105887', '4649', '1127851', '135765', '135766', '411092', '449841', '8703', '429781', '5038', '102884', '4804', '1108175', '1112574', '1153262', '12182', '12210', '157761', '25805', '45189', '68505', '77515', '989397', '7867', '4983', '5055', '28026', '5064', '5069', '1121176', '1129106', '272345', '385067', '109323', '1105698', '137849', '354004', '440815', '79809', '1152714', '5194', '133563', '133566', '140569', '139547', '75695', '911198', '5454', '1128425', '1130680', '1022969', '5600', '1117833', '5959', '152226', '545647', '582511', '5966', '1107572', '12211', '27612', '385251', '6130', '1154123', '1154124', '671269', '675847', '1106547', '1107355', '1385', '6152', '1106966', '6163', '20534', '96847', '6169', '1114629', '170338', '7419', '10981', '1120731', '13686', '399339', '1153056', '81350', '1108329', '6209', '118259', '118260', '181782', '212930', '8875', '95579', '1105764', '1109957', '1111230', '1113182', '1113459', '1117760', '1122425', '1123553', '1128267', '1129096', '1129243', '13193', '153598', '17208', '195361', '218410', '23774', '241133', '293271', '353541', '6224', '628667', '628668', '672064', '1115886', '1152740', '28447', '6378', '93320', '95589', '6216', '230300', '10793', '6238', '1123991', '1130356', '84459', '6311', '235776', '1108656', '6318', '1121057', '20833', '1152307', '1152448', '1152975', '1153703', '6343', '141868', '359067', '521252', '1112665', '6344', '1106103', '6346', '1112075', '28473', '1103162', '6385', '682666', '892139', '1102646', '6539', '116084', '178209', '568045', '1130637', '6741', '1153160', '348437', '49895', '51909', '83725', '9708', '1120444', '6925', '1111240', '6775', '350319', '6782', '100961', '6784', '1116629', '60170', '6786', '714975', '1117348', '6814', '1125469', '158172', '293974', '300071', '315266', '390896', '445938', '1105531', '6818', '50336', '50337', '1123188', '6898', '124224', '12631', '431206', '6910', '78994', '1117219', '1132083', '1152150', '1154103', '169279', '263553', '662416', '1105011', '6913', '1131230', '703953', '1153811', '1155073', '20857', '308003', '1114526', '1118658', '372862', '57922', '57948', '6935', '101660', '1115670', '1116922', '6939', '323128', '52847', '1120880', '7041', '1135082', '7047', '14549', '54844', '1136446', '7272', '763181', '7296', '763010', '1107312', '1153287', '7430', '95586', '1121603', '7532', '1153097', '141171', '314459', '7537', '80515', '1113534', '1131348', '409255', '1138027', '315789', '105057', '8079', '1108728', '8224', '1111788', '1128531', '1132815', '11342', '1153148', '1153866', '133615', '22431', '22563', '23738', '55403', '601567', '62389', '97377', '1120059', '8581', '75691', '8591', '137956', '167205', '709113', '1132809', '8594', '180187', '232605', '58268', '8617', '12359', '36145', '8619', '1102751', '8687', '38000', '8696', '101145', '173884', '27535', '308232', '502574', '51866', '59244', '89335', '1129570', '395075', '608292', '785678', '1104647', '8872', '1125092', '1152761', '1153860', '1120643', '8874', '1153816', '1152676', '8961', '1133390', '102879', '9513', '9515', '1102794', '9559', '252725', '1130780', '9581', '633585', '1120138', '9586', '33818', '1153003', '9716', '28674', '10169', '114189', '158614', '17798', '211875', '39131', '711598', '10174', '10177', '12197', '12198', '124734', '15429', '249858', '27606', '67415', '68495', '10183', '10430', '1114336', '1120713', '259772', '47570', '54550', '1103394', '10435', '208345', '22566', '41417', '1102850', '10531', '1107567', '1129442', '194617', '31336', '31349', '31353', '43698', '686532', '180373', '31097', '46536', '6217', '10798', '1154500', '18619', '20193', '252715', '1102873', '39199', '1129835', '11148', '1131719', '193354', '25413', '11339', '11326', '1127657', '11335', '11325', '217139', '11337', '211432', '44017', '45061', '1126350', '12155', '12199', '12158', '148399', '12165', '1112099', '1119471', '12169', '1059953', '1106418', '1117249', '1153183', '155736', '219239', '28632', '28640', '309476', '94713', '27199', '12194', '1107319', '12195', '1131611', '1132285', '38722', '51180', '111866', '95225', '12247', '101263', '12238', '107569', '1152490', '1153861', '156977', '213279', '400356', '12337', '16451', '16470', '16474', '12347', '101811', '12350', '152227', '20601', '20602', '1131634', '1071981', '1104999', '1105221', '1107674', '127033', '416455', '56112', '56709', '574710', '575795', '62718', '63832', '12638', '119761', '899119', '13024', '13195', '1105148', '13205', '13208', '131318', '13212', '214472', '358884', '411005', '13213', '13269', '13654', '13652', '13656', '83746', '1115959', '119686', '987188', '13658', '294239', '13717', '37998', '13966', '1126050', '13972', '34979', '13982', '14062', '1152358', '646836', '97390', '98693', '1103016', '14083', '14090', '643069', '1103031', '14428', '1103969', '14429', '14431', '34082', '73119', '1119216', '14430', '1103038', '14529', '239829', '14531', '1105932', '1152308', '56167', '592830', '60682', '14545', '14807', '264347', '25702', '15076', '708945', '175576', '210309', '217115', '35854', '41666', '89547', '15431', '12558', '1110024', '1118388', '15892', '175909', '1116146', '158098', '15984', '15987', '523394', '653441', '714289', '16008', '1131165', '189571', '189572', '152219', '16437', '430329', '51831', '1105603', '1129621', '1104787', '16471', '1114992', '273949', '1123087', '16476', '105856', '16485', '1109891', '1120049', '1131167', '16819', '1131236', '1131274', '1131312', '126793', '643003', '643221', '644093', '644334', '646195', '646286', '1152259', '16843', '1152991', '17201', '1126012', '184157', '95435', '1152633', '17242', '17363', '17477', '17488', '1107136', '17811', '245955', '17821', '18251', '18313', '86923', '18532', '1106854', '18536', '424540', '1153091', '28964', '18770', '531348', '531351', '18773', '88356', '73146', '18774', '103537', '18777', '1112686', '173863', '66794', '79817', '18781', '18785', '1106401', '18811', '20920', '18812', '510715', '18815', '18832', '18833', '18834', '1152944', '593210', '593328', '593329', '19231', '1153736', '12960', '30934', '686061', '19621', '1128846', '1131464', '123825', '240791', '628888', '649730', '649739', '66990', '853116', '948147', '19697', '40124', '38829', '20178', '64271', '91853', '20179', '95188', '1108597', '1114777', '1116397', '1116839', '1119180', '112813', '1130653', '1130657', '1138091', '1152244', '1153877', '1153879', '1153889', '144330', '566488', '566653', '566664', '20528', '70442', '1106849', '20584', '1118823', '20592', '389715', '1118209', '1121537', '20821', '1127863', '1115701', '20923', '1116530', '20924', '289885', '294030', '1116181', '1103383', '22229', '1107418', '1128369', '144701', '22241', '243483', '459216', '595193', '22386', '1128407', '38846', '107251', '107252', '1121459', '22564', '36140', '63915', '94229', '1110563', '22876', '22869', '22874', '22875', '22883', '1107367', '22886', '23070', '23069', '74700', '1116044', '134307', '134316', '74698', '87915', '1105433', '23116', '1111978', '152731', '217852', '101662', '1153064', '189574', '27249', '84020', '1111265', '24043', '928873', '1103499', '24476', '1153024', '24530', '24966', '1106671', '1123576', '1131149', '1154042', '124828', '145134', '145176', '197452', '202639', '27627', '63549', '65212', '671293', '95719', '1104258', '24974', '1112723', '34315', '40125', '285675', '385572', '1153897', '147870', '1104769', '25772', '1122580', '1126503', '641956', '25791', '45212', '25794', '1110028', '1121063', '248119', '27203', '23545', '27241', '27243', '27246', '1128990', '27514', '27530', '1128542', '27531', '592826', '1112026', '34961', '27543', '27623', '1104182', '27632', '686015', '686030', '116021', '27895', '325497', '28230', '28249', '1152436', '28267', '308529', '567005', '108047', '28336', '28359', '28385', '118558', '28389', '28412', '194645', '28487', '28489', '1152910', '28491', '1139928', '28504', '131315', '365294', '28542', '32260', '28649', '155738', '578669', '595157', '28957', '159897', '1125402', '1125944', '1112426', '29492', '1122574', '131117', '144408', '29708', '400473', '29723', '155277', '29738', '30817', '144679', '31055', '31083', '48066', '1105672', '31105', '1063773', '1124844', '1129608', '1135746', '1152162', '1152272', '1152904', '286562', '31927', '686559', '31479', '39165', '31483', '118682', '31489', '40583', '40605', '632796', '632874', '632935', '633721', '67245', '67246', '358894', '31863', '91581', '1129572', '32083', '1153933', '200630', '346292', '45605', '688361', '32276', '174418', '636500', '84695', '33231', '1132887', '33301', '1110256', '33325', '124296', '34708', '78549', '78552', '78557', '1119004', '33823', '33895', '1110546', '1106771', '34257', '1111186', '1114398', '1115456', '1116974', '1122642', '192870', '34263', '34266', '368605', '87482', '90655', '503871', '682815', '168958', '35335', '59772', '1104031', '1116410', '108962', '35778', '108983', '519318', '1128974', '399370', '60169', '627024', '35852', '41732', '134060', '1105116', '194223', '390894', '66982', '36131', '77438', '350373', '46500', '36162', '189620', '36802', '189856', '37888', '589923', '590022', '37483', '37541', '260979', '37879', '1128997', '1129610', '1153942', '117316', '592975', '592986', '593060', '606647', '61069', '1131270', '38537', '1131277', '137868', '153063', '642847', '1104191', '38771', '1110579', '39127', '1128881', '1128927', '1128935', '116081', '116087', '195150', '46476', '75972', '39210', '66986', '1123689', '39890', '1154229', '1154232', '1154233', '242663', '51045', '521855', '559804', '714256', '118079', '40131', '40135', '1104261', '884094', '40886', '41216', '1113551', '128383', '943087', '144212', '182094', '44455', '42156', '1118120', '1152179', '42209', '42221', '42848', '1116835', '1131195', '43165', '1135894', '43186', '206524', '48075', '1104435', '44121', '227178', '44514', '253971', '606479', '1131266', '45052', '1130929', '45188', '1105450', '1132385', '1104495', '45533', '45603', '1131639', '975567', '1152569', '46452', '46470', '46491', '137380', '46547', '51834', '1153275', '46501', '46887', '1153106', '1125393', '47682', '47683', '1124837', '47839', '48555', '48764', '48768', '48781', '1134865', '397488', '423816', '1112369', '217984', '49753', '49720', '683355', '123556', '50354', '289088', '1104749', '50807', '50838', '73972', '50980', '1134320', '51049', '51052', '51879', '51934', '1104809', '52000', '52007', '52003', '1112194', '300806', '446271', '53942', '1128291', '1128319', '1136791', '117315', '578645', '578646', '578649', '593022', '1128982', '141324', '459213', '459214', '593859', '593942', '59715', '54132', '593921', '594387', '62634', '1104946', '55770', '55801', '56115', '1119178', '239810', '56708', '57119', '1132731', '711527', '1154524', '57773', '235670', '57932', '1114239', '58436', '87417', '58453', '1113828', '248395', '58758', '1128208', '576973', '59626', '96845', '59798', '60159', '61073', '61312', '1106764', '61417', '94416', '1131565', '62329', '195792', '251756', '593155', '650834', '62333', '1107325', '1107558', '294145', '62607', '62676', '312409', '83461', '1105360', '63812', '63835', '64319', '1125909', '65057', '519353', '1110209', '65074', '1117920', '142268', '714748', '1112319', '1123530', '66564', '362926', '66596', '1135750', '66751', '1138043', '573535', '693143', '695284', '1105505', '1153031', '509315', '82090', '66809', '1117501', '171954', '1127558', '67584', '1127566', '562067', '67633', '68115', '68224', '231198', '69198', '70281', '70444', '70520', '70970', '593068', '71336', '71736', '71904', '1135122', '1118347', '72406', '899085', '72805', '954315', '73162', '1134348', '189774', '714260', '714879', '1105810', '73323', '73712', '74427', '1120252', '74821', '1131150', '1105877', '74920', '74921', '74937', '1107041', '74975', '75121', '103430', '75318', '1121569', '75693', '75694', '75969', '1128856', '75983', '1115790', '77108', '77112', '106590', '1129994', '1129907', '613409', '78508', '575402', '78555', '662279', '662572', '1121659', '1131466', '358866', '80491', '80656', '81714', '82666', '82920', '1125492', '1128198', '1129367', '576691', '83847', '1130678', '1106298', '1133047', '509233', '85324', '628751', '577086', '85449', '86258', '1133469', '1114184', '1153786', '89308', '103528', '137130', '1116328', '1152379', '237376', '90470', '91038', '92589', '93273', '93318', '1152958', '143801', '284023', '284025', '93755', '1111733', '94639', '94641', '116553', '95198', '95588', '95594', '95597', '95642', '990075', '594025', '96851', '100935', '99030', '193931', '100701', '596075', '101261', '102061', '102939', '1154074', '1113742', '246618', '103531', '656048', '126912', '103543', '126927', '289085', '193932', '1095507', '1107385', '1153899', '578898', '108963', '310653', '108974', '1133417', '683404', '110041', '111676', '1119623', '111770', '112099', '112787', '1125258', '114966', '1107728', '115188', '1107808', '116512', '116528', '116545', '1115166', '117328', '118424', '118435', '1121739', '1109566', '118873', '119712', '1140543', '1109873', '120817', '1152394', '121792', '141160', '1154276', '1119742', '124952', '1126011', '189721', '1108258', '126867', '126868', '126909', '126920', '645897', '126926', '1114364', '127940', '243274', '128202', '128203', '1108363', '1121313', '907845', '129287', '131122', '131317', '132821', '133553', '133567', '1108570', '133628', '481073', '134199', '164885', '447224', '134219', '134314', '134315', '134320', '135464', '1135589', '135798', '136767', '137359', '1118286', '137790', '1131300', '1154068', '139738', '1108841', '140005', '1131345', '917493', '503877', '608191', '141596', '143323', '143476', '1131549', '219446', '1128975', '1136342', '595063', '294126', '145315', '649944', '145384', '1109185', '1132434', '1109208', '148341', '1123215', '149139', '1120786', '987197', '583318', '1131223', '561568', '561581', '561593', '561595', '561610', '561613', '645084', '1112106', '154023', '1133846', '154047', '1130934', '1133028', '397590', '155158', '156794', '1118017', '1127812', '158812', '1152711', '159084', '159085', '241821', '1128853', '160732', '1153922', '1109830', '162075', '162080', '737204', '1135345', '739707', '163235', '166420', '166825', '166989', '168332', '169280', '656231', '1138755', '820662', '174425', '175256', '175548', '689152', '753070', '177115', '177993', '177998', '178718', '179180', '179702', '1152859', '179706', '1110628', '180301', '1120084', '182093', '1131550', '650814', '1110950', '187260', '1153014', '189566', '189623', '189655', '1129518', '1134346', '190698', '191216', '191222', '193347', '612306', '193352', '193918', '194609', '1154520', '126128', '215912', '563613', '248823', '377303', '198866', '199571', '643734', '202520', '202522', '643597', '203646', '205196', '1130568', '1130586', '628764', '628766', '815096', '950986', '1128151', '1129629', '210872', '1112071', '212097', '212107', '213246', '1117618', '216877', '216878', '1152663', '1112417', '219218', '567018', '219976', '220420', '226698', '1122304', '1128946', '228992', '228990', '230879', '1133428', '696343', '851968', '1153195', '232606', '1113084', '232860', '12275', '233106', '630890', '235678', '235679', '689439', '235683', '238401', '240321', '1113541', '245288', '1121398', '248431', '250566', '253762', '255628', '258259', '260121', '261040', '262108', '262121', '262178', '1138968', '263069', '263482', '264556', '335042', '267824', '270456', '1114838', '270600', '278394', '278403', '1152959', '285687', '286513', '288107', '1153784', '289945', '578845', '292277', '1133010', '1152858', '302545', '1131198', '643199', '307656', '270085', '1139195', '318071', '318187', '1117049', '321004', '1117089', '325314', '330208', '337766', '348305', '1118546', '358887', '360028', '1119211', '367312', '746058', '400455', '368657', '370366', '375605', '375825', '1119654', '376704', '379288', '60560', '380341', '1120019', '384428', '390693', '684972', '1135115', '1154173', '408885', '416867', '416964', '421481', '1105622', '430574', '1132416', '430711', '671052', '645571', '446610', '1123093', '1123493', '458439', '459206', '466170', '1128977', '467383', '1131374', '1154076', '577331', '646913', '1125597', '1125906', '1125953', '521183', '1125993', '1132864', '522338', '683360', '523010', '523574', '1126315', '529165', '561582', '646440', '561611', '1127541', '561674', '1127551', '561789', '561809', '562940', '1127810', '573553', '1138970', '593544', '608190', '1131734', '576362', '1128201', '578365', '1153900', '578650', '1128943', '1128978', '593559', '593560', '579108', '1128437', '582349', '592993', '592996', '593248', '1129015', '593104', '593201', '593209', '1153896', '594011', '594039', '1129021', '594119', '1129040', '594483', '594511', '601462', '1129368', '1129369', '1129494', '604073', '1153946', '610529', '616336', '1130069', '617378', '1130080', '617575', '1130243', '621555', '1130454', '626530', '1154012', '626531', '626574', '626999', '628459', '628458', '631015', '633031', '633030', '633081', '672070', '672071', '1131163', '642593', '1131164', '642621', '1131258', '642641', '642681', '644441', '1131172', '642798', '644470', '1131180', '642894', '1131301', '1131335', '643239', '643485', '645046', '645870', '646334', '646357', '1131184', '642920', '642930', '1131189', '1131192', '1131257', '1131305', '1131334', '644448', '644577', '643695', '643777', '643735', '645016', '644361', '644363', '644427', '1131314', '644494', '644843', '1154071', '645088', '645452', '646289', '1131330', '646412', '1131359', '646900', '647315', '1131421', '648106', '648112', '1131420', '648121', '1131414', '648369', '650807', '1133930', '653628', '1131741', '654339', '1131754', '654519', '1131828', '1132073', '662250', '1132406', '1132443', '1132505', '675756', '1132857', '682508', '683294', '684531', '687401', '1133008', '688824', '688849', '1134031', '1134056', '709518', '1134197', '711994', '714208', '1154230', '733534', '733576', '734406', '735311', '1135455', '738941', '739280', '739816', '1140548', '1135955', '752684', '1136631', '753047', '1136634', '753264', '767763', '1136040', '754594', '1136110', '756061', '1136447', '762980', '1136449', '1137140', '779960', '1138619', '814836', '815073', '820661', '817774', '1139009', '824245', '1140231', '853114', '853155', '853115', '853118'))"
            ]
          },
          "metadata": {
            "tags": []
          },
          "execution_count": 28
        }
      ]
    },
    {
      "cell_type": "code",
      "metadata": {
        "id": "KmHs3HOo6Yi8"
      },
      "source": [
        "import time"
      ],
      "execution_count": 41,
      "outputs": []
    },
    {
      "cell_type": "code",
      "metadata": {
        "colab": {
          "base_uri": "https://localhost:8080/",
          "height": 83,
          "referenced_widgets": [
            "73795bc5092e4c8284ca8819ce3a89a6",
            "4900d7cbd4ac4a4380b1671e03cfb6d8",
            "fce9b196657c4c43bf978383cf95fbcf",
            "ab50b2fd3de045818696cc58c1da90df",
            "74f7dd6741344944b13ae5220e37f82c",
            "0d8db0b9e5404330886982067009e064",
            "af1ba28cdd83464cba07715009babb4d",
            "7a084a99a62f4187a7a92346ef1db496"
          ]
        },
        "id": "waey1lc32cVa",
        "outputId": "94544193-998c-46ef-9519-0bd72e747e07"
      },
      "source": [
        "s = time.time()\n",
        "\n",
        "node2vec = Node2Vec(G, dimensions=32, walk_length=50, num_walks=200, workers=4)\n",
        "model = node2vec.fit(window=10, min_count=1, batch_words=4)\n",
        "\n",
        "print(f\"time: {time.time()-s}\")"
      ],
      "execution_count": 42,
      "outputs": [
        {
          "output_type": "display_data",
          "data": {
            "application/vnd.jupyter.widget-view+json": {
              "model_id": "73795bc5092e4c8284ca8819ce3a89a6",
              "version_minor": 0,
              "version_major": 2
            },
            "text/plain": [
              "HBox(children=(FloatProgress(value=0.0, description='Computing transition probabilities', max=2708.0, style=Pr…"
            ]
          },
          "metadata": {
            "tags": []
          }
        },
        {
          "output_type": "stream",
          "text": [
            "\n",
            "time: 690.7344665527344\n"
          ],
          "name": "stdout"
        }
      ]
    },
    {
      "cell_type": "code",
      "metadata": {
        "id": "qO4Vrq6E2rIi"
      },
      "source": [
        "X = list()\n",
        "y = list()\n",
        "node_name_to_idx = dict()\n",
        "for i, (v, class_) in enumerate(node_class.items()):\n",
        "  node_name_to_idx[v] = i\n",
        "  X.append(model.wv[v])\n",
        "  y.append(class_)\n",
        "X = np.array(X)\n",
        "y = np.array(y)\n",
        "X_train, X_test, y_train, y_test = train_test_split(X, y, shuffle = True)"
      ],
      "execution_count": 43,
      "outputs": []
    },
    {
      "cell_type": "code",
      "metadata": {
        "id": "JUw9HPov3-JV",
        "colab": {
          "base_uri": "https://localhost:8080/"
        },
        "outputId": "ac8510c0-a1af-426b-a65d-9b1a2111d91d"
      },
      "source": [
        "clf = MLPClassifier(max_iter = 500).fit(X_train, y_train)"
      ],
      "execution_count": 44,
      "outputs": [
        {
          "output_type": "stream",
          "text": [
            "/usr/local/lib/python3.7/dist-packages/sklearn/neural_network/_multilayer_perceptron.py:571: ConvergenceWarning: Stochastic Optimizer: Maximum iterations (500) reached and the optimization hasn't converged yet.\n",
            "  % self.max_iter, ConvergenceWarning)\n"
          ],
          "name": "stderr"
        }
      ]
    },
    {
      "cell_type": "code",
      "metadata": {
        "id": "qFR2bq7r581B"
      },
      "source": [
        "y_predict = clf.predict(X_test)"
      ],
      "execution_count": 45,
      "outputs": []
    },
    {
      "cell_type": "code",
      "metadata": {
        "colab": {
          "base_uri": "https://localhost:8080/"
        },
        "id": "VeF42gXi4bKF",
        "outputId": "9fc57f2a-8e44-4925-c501-a20a7af745d5"
      },
      "source": [
        "print(f\"accuracy: {accuracy_score(y_test, y_predict)*100: 5.2f}%\")"
      ],
      "execution_count": 46,
      "outputs": [
        {
          "output_type": "stream",
          "text": [
            "accuracy:  79.62%\n"
          ],
          "name": "stdout"
        }
      ]
    },
    {
      "cell_type": "code",
      "metadata": {
        "colab": {
          "base_uri": "https://localhost:8080/"
        },
        "id": "fdi1_epb4690",
        "outputId": "e2d2ef6c-fa82-4ebc-f7ba-51b793b7c69e"
      },
      "source": [
        "print(\"########## Comparison of Predicted and Test Results ######\")\n",
        "for i in range(len(y_test)//20):\n",
        "    print(\"#########################################################\")\n",
        "    print(\"predict: \\t\", y_predict[i*20:(i+1)*20])\n",
        "    print(\"real val:\\t\", y_test[i*20:(i+1)*20])"
      ],
      "execution_count": 47,
      "outputs": [
        {
          "output_type": "stream",
          "text": [
            "########## Comparison of Predicted and Test Results ######\n",
            "#########################################################\n",
            "predict: \t [6 6 1 1 4 5 5 4 1 4 6 4 7 4 6 1 1 6 4 2]\n",
            "real val:\t [6 6 1 7 4 5 5 4 1 1 6 4 7 4 6 1 1 3 4 7]\n",
            "#########################################################\n",
            "predict: \t [7 1 4 3 1 5 4 4 4 4 1 6 6 1 7 4 5 6 1 7]\n",
            "real val:\t [7 1 4 3 1 3 4 4 5 4 1 6 6 1 1 1 3 6 1 7]\n",
            "#########################################################\n",
            "predict: \t [5 1 2 3 1 4 1 1 1 3 1 6 1 1 1 3 1 6 1 5]\n",
            "real val:\t [2 1 2 3 1 4 1 1 1 3 1 6 1 1 1 3 1 6 1 5]\n",
            "#########################################################\n",
            "predict: \t [4 3 1 6 2 5 4 1 5 3 4 6 6 3 4 6 7 3 6 4]\n",
            "real val:\t [4 1 1 6 2 5 4 1 5 3 4 6 6 3 4 6 7 3 6 1]\n",
            "#########################################################\n",
            "predict: \t [5 1 1 7 2 7 6 7 1 1 6 5 5 6 6 1 6 4 3 2]\n",
            "real val:\t [5 1 1 7 2 7 6 1 1 1 2 2 5 6 6 1 6 4 3 2]\n",
            "#########################################################\n",
            "predict: \t [6 3 4 6 5 7 1 1 5 4 6 4 5 6 1 4 5 4 4 2]\n",
            "real val:\t [6 3 4 6 5 7 1 2 5 1 6 4 5 6 3 1 5 4 4 3]\n",
            "#########################################################\n",
            "predict: \t [4 4 1 6 4 7 1 1 1 7 5 7 5 6 1 4 4 4 5 7]\n",
            "real val:\t [4 4 1 6 4 7 7 1 1 3 5 7 4 6 1 4 4 1 5 7]\n",
            "#########################################################\n",
            "predict: \t [4 7 6 3 6 1 1 4 1 3 6 4 1 4 2 1 1 3 1 6]\n",
            "real val:\t [4 6 6 3 6 1 1 4 1 3 6 4 1 4 2 1 1 3 1 6]\n",
            "#########################################################\n",
            "predict: \t [1 7 7 1 1 6 3 6 1 1 4 1 1 7 1 6 4 5 4 6]\n",
            "real val:\t [4 7 7 1 1 3 3 6 1 1 4 1 1 5 1 4 4 7 1 6]\n",
            "#########################################################\n",
            "predict: \t [6 2 4 1 1 1 6 6 1 4 7 5 3 4 4 2 5 1 7 1]\n",
            "real val:\t [6 2 4 1 1 1 6 6 1 4 7 5 6 4 1 2 2 1 7 1]\n",
            "#########################################################\n",
            "predict: \t [4 5 7 1 4 2 1 6 4 1 1 6 1 3 3 3 6 4 7 2]\n",
            "real val:\t [4 1 7 1 4 7 5 1 1 1 5 1 3 3 3 3 6 4 7 2]\n",
            "#########################################################\n",
            "predict: \t [3 3 1 4 7 6 1 1 7 6 1 5 2 4 7 6 4 4 4 7]\n",
            "real val:\t [3 7 6 4 7 6 1 1 7 6 1 1 2 4 7 1 4 4 4 7]\n",
            "#########################################################\n",
            "predict: \t [6 7 1 4 4 4 5 1 7 5 4 4 5 4 4 1 1 4 4 5]\n",
            "real val:\t [6 6 1 4 4 1 5 1 7 5 4 4 5 4 1 1 1 4 4 5]\n",
            "#########################################################\n",
            "predict: \t [4 6 4 1 3 1 4 1 1 7 3 6 6 6 2 5 1 1 4 5]\n",
            "real val:\t [4 6 4 1 4 1 5 1 5 7 6 4 6 6 2 5 1 1 4 5]\n",
            "#########################################################\n",
            "predict: \t [6 7 4 7 5 6 3 6 5 2 7 1 4 1 4 1 1 4 6 2]\n",
            "real val:\t [6 7 4 7 5 6 3 6 5 2 7 1 4 6 4 1 4 4 1 2]\n",
            "#########################################################\n",
            "predict: \t [2 1 1 4 1 3 1 6 4 6 1 4 5 5 5 1 1 4 6 1]\n",
            "real val:\t [2 1 1 1 1 1 1 6 1 6 1 4 1 5 5 1 5 4 6 1]\n",
            "#########################################################\n",
            "predict: \t [2 7 7 2 7 1 2 1 5 6 1 4 1 7 5 7 7 2 6 1]\n",
            "real val:\t [2 7 5 7 7 1 2 1 5 3 1 4 1 7 5 7 7 2 6 1]\n",
            "#########################################################\n",
            "predict: \t [1 1 6 3 1 1 5 5 7 4 6 5 7 6 6 4 1 1 4 1]\n",
            "real val:\t [1 1 6 3 1 1 1 7 7 4 1 5 7 6 6 4 7 1 4 1]\n",
            "#########################################################\n",
            "predict: \t [4 5 5 3 5 1 1 5 6 5 7 5 4 1 1 1 6 3 7 2]\n",
            "real val:\t [4 5 2 3 5 1 1 5 6 5 7 2 4 1 1 1 6 3 1 2]\n",
            "#########################################################\n",
            "predict: \t [5 5 4 4 5 1 5 1 2 2 6 6 4 7 5 6 1 1 1 1]\n",
            "real val:\t [1 5 1 4 5 1 1 5 2 2 6 6 5 7 5 5 1 1 1 4]\n",
            "#########################################################\n",
            "predict: \t [6 7 6 6 6 5 6 3 5 6 4 3 2 6 6 3 1 3 1 1]\n",
            "real val:\t [6 7 6 6 6 2 6 7 5 6 4 3 2 6 6 6 1 3 5 1]\n",
            "#########################################################\n",
            "predict: \t [2 7 1 4 1 1 1 4 7 6 1 1 1 6 6 3 7 4 6 1]\n",
            "real val:\t [3 1 1 4 1 1 1 4 4 6 1 1 1 6 6 3 4 4 6 4]\n",
            "#########################################################\n",
            "predict: \t [2 1 3 3 1 1 1 1 4 3 6 7 6 7 6 2 4 7 1 4]\n",
            "real val:\t [2 1 3 3 1 4 7 1 4 3 6 7 6 7 1 2 5 7 4 1]\n",
            "#########################################################\n",
            "predict: \t [6 6 5 1 4 1 6 4 1 3 6 5 1 6 4 5 7 7 4 5]\n",
            "real val:\t [6 6 2 1 4 1 6 4 1 2 6 5 1 6 6 5 2 5 4 5]\n",
            "#########################################################\n",
            "predict: \t [1 6 2 2 7 1 1 1 6 3 7 5 5 5 4 5 6 5 3 5]\n",
            "real val:\t [2 6 2 2 7 1 1 1 6 3 7 5 5 5 1 5 6 5 3 5]\n",
            "#########################################################\n",
            "predict: \t [6 5 5 3 7 1 6 1 5 1 5 6 7 1 1 1 3 4 6 6]\n",
            "real val:\t [6 5 5 7 6 1 6 1 5 1 5 6 5 1 1 1 5 1 6 6]\n",
            "#########################################################\n",
            "predict: \t [7 1 3 5 1 1 3 4 3 7 4 7 7 1 1 1 4 1 6 2]\n",
            "real val:\t [7 1 1 4 1 1 3 4 3 7 4 7 5 1 1 1 1 1 6 2]\n",
            "#########################################################\n",
            "predict: \t [5 6 5 6 4 6 1 5 4 5 2 6 3 4 6 7 1 2 6 1]\n",
            "real val:\t [5 6 5 6 1 6 1 7 4 5 2 6 6 1 6 7 1 2 7 1]\n",
            "#########################################################\n",
            "predict: \t [1 6 1 1 7 6 6 1 7 1 4 7 1 5 1 5 1 1 5 5]\n",
            "real val:\t [1 6 1 7 7 6 6 1 7 4 4 7 1 2 1 4 1 1 5 5]\n",
            "#########################################################\n",
            "predict: \t [7 7 1 7 1 7 4 5 1 5 3 1 6 7 2 6 1 7 1 6]\n",
            "real val:\t [7 7 1 7 1 7 4 5 1 5 3 1 6 5 2 6 1 7 1 6]\n",
            "#########################################################\n",
            "predict: \t [3 7 1 6 4 1 4 1 1 1 5 2 1 7 1 4 5 3 1 1]\n",
            "real val:\t [3 7 1 5 5 1 4 1 1 1 2 2 1 7 1 4 7 3 1 3]\n",
            "#########################################################\n",
            "predict: \t [1 5 1 1 2 5 7 4 7 4 7 1 1 5 4 2 1 1 5 3]\n",
            "real val:\t [1 1 1 1 2 7 7 4 7 3 7 1 7 5 4 2 1 5 5 3]\n",
            "#########################################################\n",
            "predict: \t [5 5 1 6 1 1 6 5 1 2 6 1 5 5 4 5 4 5 1 1]\n",
            "real val:\t [5 5 1 6 4 1 6 7 1 2 6 1 1 5 4 5 4 1 1 1]\n"
          ],
          "name": "stdout"
        }
      ]
    },
    {
      "cell_type": "code",
      "metadata": {
        "id": "NWuQ6lS45Iu9"
      },
      "source": [
        ""
      ],
      "execution_count": null,
      "outputs": []
    }
  ]
}