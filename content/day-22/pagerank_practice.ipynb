{
  "nbformat": 4,
  "nbformat_minor": 0,
  "metadata": {
    "colab": {
      "name": "pagerank_practice.ipynb",
      "provenance": [],
      "collapsed_sections": []
    },
    "kernelspec": {
      "name": "python3",
      "display_name": "Python 3"
    }
  },
  "cells": [
    {
      "cell_type": "code",
      "metadata": {
        "id": "HlhVAN1zj6gk"
      },
      "source": [
        "import networkx as nx\n",
        "import numpy as np\n",
        "import matplotlib.pyplot as plt\n",
        "import os\n",
        "import os.path as osp\n",
        "import sys"
      ],
      "execution_count": 1,
      "outputs": []
    },
    {
      "cell_type": "code",
      "metadata": {
        "colab": {
          "base_uri": "https://localhost:8080/"
        },
        "id": "d2RqdM3YkwBO",
        "outputId": "8c12bbaf-66ad-4d1c-c65e-b4142ef236e5"
      },
      "source": [
        "ls"
      ],
      "execution_count": 2,
      "outputs": [
        {
          "output_type": "stream",
          "text": [
            "\u001b[0m\u001b[01;34mdrive\u001b[0m/  \u001b[01;34msample_data\u001b[0m/\n"
          ],
          "name": "stdout"
        }
      ]
    },
    {
      "cell_type": "code",
      "metadata": {
        "colab": {
          "base_uri": "https://localhost:8080/"
        },
        "id": "-Lxc-GupktCW",
        "outputId": "ca8977e0-ab0b-4aa2-9e13-3e8cad99e91a"
      },
      "source": [
        "cd ./drive/MyDrive/Colab\\ Notebooks"
      ],
      "execution_count": 3,
      "outputs": [
        {
          "output_type": "stream",
          "text": [
            "/content/drive/MyDrive/Colab Notebooks\n"
          ],
          "name": "stdout"
        }
      ]
    },
    {
      "cell_type": "code",
      "metadata": {
        "colab": {
          "base_uri": "https://localhost:8080/"
        },
        "id": "P4ueGqwYk2g_",
        "outputId": "ab04e987-fd68-4881-d839-88fa08219ad5"
      },
      "source": [
        "cd ./data/"
      ],
      "execution_count": 5,
      "outputs": [
        {
          "output_type": "stream",
          "text": [
            "/content/drive/My Drive/Colab Notebooks/data\n"
          ],
          "name": "stdout"
        }
      ]
    },
    {
      "cell_type": "code",
      "metadata": {
        "colab": {
          "base_uri": "https://localhost:8080/"
        },
        "id": "QifVytBdkyvk",
        "outputId": "55d19b4f-3a57-4e19-9707-d2749279084d"
      },
      "source": [
        "ls"
      ],
      "execution_count": 6,
      "outputs": [
        {
          "output_type": "stream",
          "text": [
            "\u001b[0m\u001b[01;34mhw\u001b[0m/  \u001b[01;34mlab\u001b[0m/  \u001b[01;34mothers\u001b[0m/\n"
          ],
          "name": "stdout"
        }
      ]
    },
    {
      "cell_type": "code",
      "metadata": {
        "id": "EEnSdJ0Tk9XD"
      },
      "source": [
        "path_v2n = './others/vertex2name.txt'\n",
        "path_edges = './others/edges.txt'\n",
        "\n",
        "path_keyword = './lab/lab3/deep_learning.txt'"
      ],
      "execution_count": 7,
      "outputs": []
    },
    {
      "cell_type": "code",
      "metadata": {
        "id": "H3vJk_Q3kMJf"
      },
      "source": [
        "G = nx.DiGraph()\n",
        "\n",
        "f = open(path_edges)\n",
        "for line in f:\n",
        "  v1, v2 = map(int, line.split())\n",
        "  G.add_edge(v1, v2)\n",
        "f.close()\n",
        "\n",
        "n2v = {}\n",
        "v2n = {}\n",
        "f = open(path_v2n)\n",
        "for line in f:\n",
        "  v, n = line.split()\n",
        "  v = int(v)\n",
        "  n = n.rstrip()\n",
        "  n2v[n] = v\n",
        "  v2n[v] = n\n",
        "f.close()\n",
        "\n",
        "node_key = []\n",
        "f = open(path_keyword)\n",
        "for line in f:\n",
        "  v = line.rstrip()\n",
        "  v = int(v)\n",
        "  node_key.append(v)\n",
        "f.close()"
      ],
      "execution_count": 9,
      "outputs": []
    },
    {
      "cell_type": "code",
      "metadata": {
        "id": "m0QhVBlBqn5p"
      },
      "source": [
        "H = G.subgraph(node_key)"
      ],
      "execution_count": 10,
      "outputs": []
    },
    {
      "cell_type": "code",
      "metadata": {
        "colab": {
          "base_uri": "https://localhost:8080/"
        },
        "id": "gBxe86dlquOp",
        "outputId": "ce5c4d0d-f53d-4d70-91d0-ebc1b1fd197c"
      },
      "source": [
        "pr = nx.pagerank(H, alpha = 0.9)\n",
        "res = [key for (key, value) in sorted(pr.items(), key = lambda x : x[1], reverse = True)]\n",
        "for item in res[:10]:\n",
        "  print(f\"vertex: {item}\\t\\tkey: {v2n[item]}\\t\\tpagerank: {pr[item]}\")"
      ],
      "execution_count": 13,
      "outputs": [
        {
          "output_type": "stream",
          "text": [
            "vertex: 1994735\t\tkey: 딥러닝\t\tpagerank: 0.3733324923169069\n",
            "vertex: 2432258\t\tkey: OpenCV\t\tpagerank: 0.13333318833050117\n",
            "vertex: 2566919\t\tkey: 이스트소프트\t\tpagerank: 0.13333318833050117\n",
            "vertex: 2534664\t\tkey: 인공지능인문학\t\tpagerank: 0.13333318833050117\n",
            "vertex: 283089\t\tkey: 미분기하학\t\tpagerank: 0.13333318833050117\n",
            "vertex: 2518945\t\tkey: PyTorch\t\tpagerank: 0.013333536337298328\n",
            "vertex: 2596258\t\tkey: 라온피플\t\tpagerank: 0.013333536337298328\n",
            "vertex: 1986247\t\tkey: 자동긴급제동장치\t\tpagerank: 0.013333536337298328\n",
            "vertex: 2417705\t\tkey: 케플러-90i\t\tpagerank: 0.013333536337298328\n",
            "vertex: 2052588\t\tkey: T2d\t\tpagerank: 0.013333536337298328\n"
          ],
          "name": "stdout"
        }
      ]
    },
    {
      "cell_type": "code",
      "metadata": {
        "id": "7HQ2mZvkrbcu"
      },
      "source": [
        ""
      ],
      "execution_count": null,
      "outputs": []
    }
  ]
}