{
  "nbformat": 4,
  "nbformat_minor": 0,
  "metadata": {
    "colab": {
      "name": "implementation_GCN.ipynb",
      "provenance": [],
      "collapsed_sections": []
    },
    "kernelspec": {
      "name": "python3",
      "display_name": "Python 3"
    }
  },
  "cells": [
    {
      "cell_type": "markdown",
      "metadata": {
        "id": "aZALZvdk6ljs"
      },
      "source": [
        "# import library"
      ]
    },
    {
      "cell_type": "code",
      "metadata": {
        "colab": {
          "base_uri": "https://localhost:8080/"
        },
        "id": "Vm8E6CAu7OpY",
        "outputId": "32866c47-625d-4a5d-975a-8235ebe44eed"
      },
      "source": [
        "!pip install dgl"
      ],
      "execution_count": 36,
      "outputs": [
        {
          "output_type": "stream",
          "text": [
            "Requirement already satisfied: dgl in /usr/local/lib/python3.7/dist-packages (0.6.0)\n",
            "Requirement already satisfied: numpy>=1.14.0 in /usr/local/lib/python3.7/dist-packages (from dgl) (1.19.5)\n",
            "Requirement already satisfied: networkx>=2.1 in /usr/local/lib/python3.7/dist-packages (from dgl) (2.5)\n",
            "Requirement already satisfied: requests>=2.19.0 in /usr/local/lib/python3.7/dist-packages (from dgl) (2.23.0)\n",
            "Requirement already satisfied: scipy>=1.1.0 in /usr/local/lib/python3.7/dist-packages (from dgl) (1.4.1)\n",
            "Requirement already satisfied: decorator>=4.3.0 in /usr/local/lib/python3.7/dist-packages (from networkx>=2.1->dgl) (4.4.2)\n",
            "Requirement already satisfied: certifi>=2017.4.17 in /usr/local/lib/python3.7/dist-packages (from requests>=2.19.0->dgl) (2020.12.5)\n",
            "Requirement already satisfied: urllib3!=1.25.0,!=1.25.1,<1.26,>=1.21.1 in /usr/local/lib/python3.7/dist-packages (from requests>=2.19.0->dgl) (1.24.3)\n",
            "Requirement already satisfied: chardet<4,>=3.0.2 in /usr/local/lib/python3.7/dist-packages (from requests>=2.19.0->dgl) (3.0.4)\n",
            "Requirement already satisfied: idna<3,>=2.5 in /usr/local/lib/python3.7/dist-packages (from requests>=2.19.0->dgl) (2.10)\n"
          ],
          "name": "stdout"
        }
      ]
    },
    {
      "cell_type": "code",
      "metadata": {
        "id": "UASWuw3A6-NM"
      },
      "source": [
        "import numpy as np\n",
        "import time\n",
        "import torch\n",
        "import torch.nn as nn\n",
        "import torch.nn.functional as F\n",
        "import dgl\n",
        "from dgl.data import CoraGraphDataset\n",
        "from sklearn.metrics import f1_score\n",
        "import dgl.function as fn"
      ],
      "execution_count": 37,
      "outputs": []
    },
    {
      "cell_type": "code",
      "metadata": {
        "colab": {
          "base_uri": "https://localhost:8080/"
        },
        "id": "Zin61SaW7VAP",
        "outputId": "45067f0b-7ee9-4460-facd-21dbb77ea76f"
      },
      "source": [
        "G = CoraGraphDataset()\n",
        "num_classes = G.num_classes\n",
        "G = G[0]\n",
        "\n",
        "features = G.ndata['feat']\n",
        "input_feature_dim = features.shape[1]\n",
        "labels = G.ndata['label']\n",
        "train_mask = G.ndata['train_mask']\n",
        "test_mask = G.ndata['test_mask']"
      ],
      "execution_count": 38,
      "outputs": [
        {
          "output_type": "stream",
          "text": [
            "  NumNodes: 2708\n",
            "  NumEdges: 10556\n",
            "  NumFeats: 1433\n",
            "  NumClasses: 7\n",
            "  NumTrainingSamples: 140\n",
            "  NumValidationSamples: 500\n",
            "  NumTestSamples: 1000\n",
            "Done loading data from cached files.\n"
          ],
          "name": "stdout"
        }
      ]
    },
    {
      "cell_type": "code",
      "metadata": {
        "id": "FyOODmjKAD4h"
      },
      "source": [
        "# 하이퍼파라미터 정의\n",
        "lr = 1e-2\n",
        "num_epochs = 50\n",
        "num_hidden_dim = 128\n",
        "num_layers = 2\n",
        "weight_decay = 5e-4"
      ],
      "execution_count": 39,
      "outputs": []
    },
    {
      "cell_type": "markdown",
      "metadata": {
        "id": "yVe0P44z7vOa"
      },
      "source": [
        "# GraphSAGE\n",
        "mean as AGG function\n",
        "$$\n",
        "\\mathbf{h}_v^k = \\sigma(W_k\\cdot \\left[ AGG(\\{\\mathbf{h}_u^{k-1}, \\forall k\\in N(v)\\}), \\mathbf{h}_v^{k-1} \\right]) \\\\\n",
        "AGG = \\sum_{u\\in N(v)}\\frac{\\mathbf{h}_u^{k-1}}{|N(v)|}\n",
        "$$"
      ]
    },
    {
      "cell_type": "code",
      "metadata": {
        "id": "lTMcWAEE83Im"
      },
      "source": [
        "class SAGEConv(nn.Module):\n",
        "    def __init__(self, in_feats, out_feats, activation):\n",
        "        super(SAGEConv, self).__init__()\n",
        "        self._in_feats = in_feats\n",
        "        self._out_feats = out_feats\n",
        "        self.activation = activation\n",
        "        self.W = nn.Linear(in_feats + in_feats, out_feats, bias=True)\n",
        "    \n",
        "    def forward(self, graph, feature):\n",
        "        graph.ndata['h'] = feature\n",
        "        graph.update_all(fn.copy_src('h', 'm'), fn.sum('m', 'neigh'))\n",
        "        degs = graph.in_degrees().to(feature)\n",
        "        hk_neigh = graph.ndata['neigh'] / degs.unsqueeze(-1)\n",
        "        hk = self.W(torch.cat((graph.ndata['h'], hk_neigh), dim = -1))\n",
        "        if self.activation != None:\n",
        "            hk = self.activation(hk)\n",
        "        return hk\n"
      ],
      "execution_count": 40,
      "outputs": []
    },
    {
      "cell_type": "code",
      "metadata": {
        "id": "2f9vGaVX-X7k"
      },
      "source": [
        "class GraphSAGE(nn.Module):\n",
        "    def __init__(self, graph, in_feat_dim, num_hidden_dim, num_classes, num_layers, activation_fun):\n",
        "        super(GraphSAGE, self).__init__()\n",
        "        self.layers = nn.ModuleList()\n",
        "        self.graph = graph\n",
        "        self.layers.append(SAGEConv(in_feat_dim, num_hidden_dim, activation_fun))\n",
        "        for i in range(num_layers):\n",
        "            self.layers.append(SAGEConv(num_hidden_dim, num_hidden_dim, activation_fun))\n",
        "        self.layers.append(SAGEConv(num_hidden_dim, num_classes, activation = None))\n",
        "    \n",
        "    def forward(self, features):\n",
        "        x = features\n",
        "        for layer in self.layers:\n",
        "            x = layer(self.graph, x)\n",
        "        return x\n"
      ],
      "execution_count": 41,
      "outputs": []
    },
    {
      "cell_type": "code",
      "metadata": {
        "id": "dpUUUotr_4E5"
      },
      "source": [
        "model = GraphSAGE(G, input_feature_dim, num_hidden_dim, num_classes, num_layers, F.relu)"
      ],
      "execution_count": 42,
      "outputs": []
    },
    {
      "cell_type": "code",
      "metadata": {
        "id": "n4eDiBzcBSSA"
      },
      "source": [
        "# 모델 학습 결과를 평가할 함수\n",
        "def evaluate_train(model, features, labels, mask):\n",
        "    model.eval()\n",
        "    with torch.no_grad():\n",
        "        logits = model(features)\n",
        "        logits = logits[mask]\n",
        "        labels = labels[mask]\n",
        "        _, indices = torch.max(logits, dim=1)\n",
        "        correct = torch.sum(indices == labels)\n",
        "        return correct.item() * 1.0 / len(labels)\n",
        "\n",
        "def evaluate_test(model, features, labels, mask):\n",
        "    model.eval()\n",
        "    with torch.no_grad():\n",
        "        logits = model(features)\n",
        "        logits = logits[mask]\n",
        "        labels = labels[mask]\n",
        "        _, indices = torch.max(logits, dim=1)\n",
        "        macro_f1 = f1_score(labels, indices, average = 'macro')\n",
        "        correct = torch.sum(indices == labels)\n",
        "        return correct.item() * 1.0 / len(labels), macro_f1"
      ],
      "execution_count": 43,
      "outputs": []
    },
    {
      "cell_type": "code",
      "metadata": {
        "id": "moIFJOQeAMAj"
      },
      "source": [
        "def train(model, loss_fun, features, labels, train_mask, optim, num_epochs):\n",
        "    running_time = []\n",
        "    for epoch in range(num_epochs):\n",
        "        model.train()\n",
        "        start_t = time.time()\n",
        "        logits = model(features)\n",
        "        loss = loss_fun(logits[train_mask], labels[train_mask])\n",
        "        optim.zero_grad()\n",
        "        loss.backward()\n",
        "        optim.step()\n",
        "        running_time.append(time.time()-start_t)\n",
        "        acc = evaluate_train(model, features, labels, train_mask)\n",
        "\n",
        "        print(f\"Epoch: {epoch}\\tTime(s): {running_time[epoch]}\\tLoss: {loss.item():.4f}\\tAcc: {acc:.6f}\")\n",
        "\n",
        "def test(model, features, labels, test_mask):\n",
        "    acc, macro_f1 = evaluate_test(model, features, labels, test_mask)\n",
        "    print(f\"Test Accuracy:\\t{acc: .6f}\")\n",
        "    print(f\"Test macro-f1:\\t{macro_f1: .4f}\")"
      ],
      "execution_count": 50,
      "outputs": []
    },
    {
      "cell_type": "markdown",
      "metadata": {
        "id": "Ap1sJVDmG5AG"
      },
      "source": [
        "# train & test"
      ]
    },
    {
      "cell_type": "code",
      "metadata": {
        "colab": {
          "base_uri": "https://localhost:8080/"
        },
        "id": "ep7J2fkCCoJV",
        "outputId": "68506dbb-00d4-419d-fb40-cecf3afadf94"
      },
      "source": [
        "model = GraphSAGE(G, input_feature_dim, num_hidden_dim, num_classes, num_layers, F.relu)\n",
        "print(model)"
      ],
      "execution_count": 45,
      "outputs": [
        {
          "output_type": "stream",
          "text": [
            "GraphSAGE(\n",
            "  (layers): ModuleList(\n",
            "    (0): SAGEConv(\n",
            "      (W): Linear(in_features=2866, out_features=128, bias=True)\n",
            "    )\n",
            "    (1): SAGEConv(\n",
            "      (W): Linear(in_features=256, out_features=128, bias=True)\n",
            "    )\n",
            "    (2): SAGEConv(\n",
            "      (W): Linear(in_features=256, out_features=128, bias=True)\n",
            "    )\n",
            "    (3): SAGEConv(\n",
            "      (W): Linear(in_features=256, out_features=7, bias=True)\n",
            "    )\n",
            "  )\n",
            ")\n"
          ],
          "name": "stdout"
        }
      ]
    },
    {
      "cell_type": "code",
      "metadata": {
        "id": "EY4GH9poC2IY"
      },
      "source": [
        "loss_fun = torch.nn.CrossEntropyLoss()\n",
        "\n",
        "optim = torch.optim.Adam(model.parameters(), lr = lr, weight_decay = weight_decay)"
      ],
      "execution_count": 46,
      "outputs": []
    },
    {
      "cell_type": "code",
      "metadata": {
        "colab": {
          "base_uri": "https://localhost:8080/"
        },
        "id": "ctC1XPJqDCPG",
        "outputId": "9ff6c7b8-14cb-45be-c0e6-d9ec1d70061c"
      },
      "source": [
        "train(model, loss_fun, features, labels, train_mask, optim, num_epochs)"
      ],
      "execution_count": 47,
      "outputs": [
        {
          "output_type": "stream",
          "text": [
            "Epoch: 0\tTime(s): 0.2809939384460449\tLoss: 1.9466\tAcc: 0.142857\n",
            "Epoch: 1\tTime(s): 0.1759033203125\tLoss: 1.9460\tAcc: 0.142857\n",
            "Epoch: 2\tTime(s): 0.17191576957702637\tLoss: 1.9445\tAcc: 0.142857\n",
            "Epoch: 3\tTime(s): 0.17142105102539062\tLoss: 1.9414\tAcc: 0.500000\n",
            "Epoch: 4\tTime(s): 0.17311668395996094\tLoss: 1.9292\tAcc: 0.421429\n",
            "Epoch: 5\tTime(s): 0.1741025447845459\tLoss: 1.8883\tAcc: 0.564286\n",
            "Epoch: 6\tTime(s): 0.17392563819885254\tLoss: 1.7925\tAcc: 0.435714\n",
            "Epoch: 7\tTime(s): 0.17014765739440918\tLoss: 1.6489\tAcc: 0.700000\n",
            "Epoch: 8\tTime(s): 0.17030668258666992\tLoss: 1.4474\tAcc: 0.707143\n",
            "Epoch: 9\tTime(s): 0.17139840126037598\tLoss: 1.1951\tAcc: 0.742857\n",
            "Epoch: 10\tTime(s): 0.1704564094543457\tLoss: 0.9364\tAcc: 0.807143\n",
            "Epoch: 11\tTime(s): 0.16858124732971191\tLoss: 0.7191\tAcc: 0.892857\n",
            "Epoch: 12\tTime(s): 0.1721210479736328\tLoss: 0.4661\tAcc: 0.900000\n",
            "Epoch: 13\tTime(s): 0.16767358779907227\tLoss: 0.3151\tAcc: 0.892857\n",
            "Epoch: 14\tTime(s): 0.17084908485412598\tLoss: 0.3225\tAcc: 0.942857\n",
            "Epoch: 15\tTime(s): 0.17107820510864258\tLoss: 0.2464\tAcc: 0.978571\n",
            "Epoch: 16\tTime(s): 0.17348885536193848\tLoss: 0.1212\tAcc: 0.978571\n",
            "Epoch: 17\tTime(s): 0.1685318946838379\tLoss: 0.0830\tAcc: 0.971429\n",
            "Epoch: 18\tTime(s): 0.17226386070251465\tLoss: 0.0771\tAcc: 0.985714\n",
            "Epoch: 19\tTime(s): 0.17089223861694336\tLoss: 0.0510\tAcc: 1.000000\n",
            "Epoch: 20\tTime(s): 0.1822512149810791\tLoss: 0.0146\tAcc: 1.000000\n",
            "Epoch: 21\tTime(s): 0.17051291465759277\tLoss: 0.0140\tAcc: 1.000000\n",
            "Epoch: 22\tTime(s): 0.17094731330871582\tLoss: 0.0057\tAcc: 0.992857\n",
            "Epoch: 23\tTime(s): 0.16970515251159668\tLoss: 0.0214\tAcc: 1.000000\n",
            "Epoch: 24\tTime(s): 0.16904020309448242\tLoss: 0.0090\tAcc: 0.992857\n",
            "Epoch: 25\tTime(s): 0.17041611671447754\tLoss: 0.0195\tAcc: 1.000000\n",
            "Epoch: 26\tTime(s): 0.16826534271240234\tLoss: 0.0005\tAcc: 0.992857\n",
            "Epoch: 27\tTime(s): 0.17574095726013184\tLoss: 0.0245\tAcc: 1.000000\n",
            "Epoch: 28\tTime(s): 0.17198705673217773\tLoss: 0.0016\tAcc: 1.000000\n",
            "Epoch: 29\tTime(s): 0.1724109649658203\tLoss: 0.0007\tAcc: 1.000000\n",
            "Epoch: 30\tTime(s): 0.17073512077331543\tLoss: 0.0066\tAcc: 1.000000\n",
            "Epoch: 31\tTime(s): 0.17461824417114258\tLoss: 0.0042\tAcc: 1.000000\n",
            "Epoch: 32\tTime(s): 0.16870570182800293\tLoss: 0.0030\tAcc: 1.000000\n",
            "Epoch: 33\tTime(s): 0.1679060459136963\tLoss: 0.0071\tAcc: 1.000000\n",
            "Epoch: 34\tTime(s): 0.1683969497680664\tLoss: 0.0011\tAcc: 1.000000\n",
            "Epoch: 35\tTime(s): 0.17342138290405273\tLoss: 0.0029\tAcc: 1.000000\n",
            "Epoch: 36\tTime(s): 0.17001724243164062\tLoss: 0.0038\tAcc: 1.000000\n",
            "Epoch: 37\tTime(s): 0.17897295951843262\tLoss: 0.0017\tAcc: 1.000000\n",
            "Epoch: 38\tTime(s): 0.16799545288085938\tLoss: 0.0008\tAcc: 1.000000\n",
            "Epoch: 39\tTime(s): 0.17541861534118652\tLoss: 0.0010\tAcc: 1.000000\n",
            "Epoch: 40\tTime(s): 0.17016220092773438\tLoss: 0.0017\tAcc: 1.000000\n",
            "Epoch: 41\tTime(s): 0.1693403720855713\tLoss: 0.0018\tAcc: 1.000000\n",
            "Epoch: 42\tTime(s): 0.17169547080993652\tLoss: 0.0010\tAcc: 1.000000\n",
            "Epoch: 43\tTime(s): 0.17119312286376953\tLoss: 0.0009\tAcc: 1.000000\n",
            "Epoch: 44\tTime(s): 0.17142224311828613\tLoss: 0.0011\tAcc: 1.000000\n",
            "Epoch: 45\tTime(s): 0.1698296070098877\tLoss: 0.0012\tAcc: 1.000000\n",
            "Epoch: 46\tTime(s): 0.17869234085083008\tLoss: 0.0011\tAcc: 1.000000\n",
            "Epoch: 47\tTime(s): 0.16855525970458984\tLoss: 0.0011\tAcc: 1.000000\n",
            "Epoch: 48\tTime(s): 0.17314791679382324\tLoss: 0.0012\tAcc: 1.000000\n",
            "Epoch: 49\tTime(s): 0.16785645484924316\tLoss: 0.0014\tAcc: 1.000000\n"
          ],
          "name": "stdout"
        }
      ]
    },
    {
      "cell_type": "code",
      "metadata": {
        "colab": {
          "base_uri": "https://localhost:8080/"
        },
        "id": "sqjzhiTXDKW3",
        "outputId": "2c40abf5-ec24-4d01-aeef-baddb0b8424c"
      },
      "source": [
        "test(model, features, labels, test_mask)"
      ],
      "execution_count": 51,
      "outputs": [
        {
          "output_type": "stream",
          "text": [
            "Test Accuracy:\t 0.693000\n",
            "Test macro-f1:\t 0.6863\n"
          ],
          "name": "stdout"
        }
      ]
    },
    {
      "cell_type": "code",
      "metadata": {
        "id": "VR7oFbPWUdrq"
      },
      "source": [
        ""
      ],
      "execution_count": null,
      "outputs": []
    }
  ]
}